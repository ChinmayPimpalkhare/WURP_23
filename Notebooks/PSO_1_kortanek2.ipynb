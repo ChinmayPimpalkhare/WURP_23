{
  "nbformat": 4,
  "nbformat_minor": 0,
  "metadata": {
    "colab": {
      "provenance": []
    },
    "kernelspec": {
      "name": "python3",
      "display_name": "Python 3"
    },
    "language_info": {
      "name": "python"
    }
  },
  "cells": [
    {
      "cell_type": "markdown",
      "source": [
        "Date: 3rd January 2024"
      ],
      "metadata": {
        "id": "_AnRSgtbTyiF"
      }
    },
    {
      "cell_type": "markdown",
      "source": [
        "### Particle Swarm Optimization <br>\n",
        "In this notebook, we attempt to implement the Particle Swarm Optimization (PSO) algorithm to solve the kortanek2 SIP."
      ],
      "metadata": {
        "id": "q99MVccPl1cm"
      }
    },
    {
      "cell_type": "code",
      "source": [
        "import numpy as np"
      ],
      "metadata": {
        "id": "OvMC8qXVdc7X"
      },
      "execution_count": null,
      "outputs": []
    },
    {
      "cell_type": "markdown",
      "source": [
        "**Function 1 (Computation of $G(\\omega)$)** <br>\n"
      ],
      "metadata": {
        "id": "y0_yF3ZNSplL"
      }
    },
    {
      "cell_type": "code",
      "source": [
        "import numpy as np\n",
        "from scipy.optimize import minimize\n",
        "\n",
        "def optimize_program(u_array, print_point = 0):\n",
        "    def objective_function(x):\n",
        "        return x[0]**2 + x[1]**2\n",
        "\n",
        "    def constraint_function1(x):\n",
        "        term1 = ((x[0] - 2)**2 + (x[1] - 2)**2 - 4) * u_array[0][0]\n",
        "        term2 = (x[0]**2 + x[1]**2 - 4) * u_array[0][1]\n",
        "        return -1*(term1 + term2)\n",
        "\n",
        "    def constraint_function2(x):\n",
        "        term1 = ((x[0] - 2)**2 + (x[1] - 2)**2 - 4) * u_array[1][0]\n",
        "        term2 = (x[0]**2 + x[1]**2 - 4) * u_array[1][1]\n",
        "        return -1*(term1 + term2)\n",
        "\n",
        "    # Bounds for variables\n",
        "    bounds_x1 = (0, 2)\n",
        "    bounds_x2 = (0, 2)\n",
        "\n",
        "    # Constraints\n",
        "    constraints = [{'type': 'ineq', 'fun': constraint_function1},\n",
        "                   {'type': 'ineq', 'fun': constraint_function2}]\n",
        "\n",
        "    # Initial guess\n",
        "    initial_guess = [1, 0.1]\n",
        "\n",
        "    # Minimization using scipy.optimize\n",
        "    result = minimize(objective_function, initial_guess, method='SLSQP', bounds=[bounds_x1, bounds_x2], constraints=constraints)\n",
        "\n",
        "    # Return the optimal solution and objective function value\n",
        "    if print_point == 0:\n",
        "      return result.fun\n",
        "    elif print_point == 1:\n",
        "      return result.fun, result.x\n"
      ],
      "metadata": {
        "id": "5VFHBXvyS1mj"
      },
      "execution_count": 50,
      "outputs": []
    },
    {
      "cell_type": "code",
      "source": [
        "# Example usage:\n",
        "input_array = np.array([[0.65648, 0], [0, 0]])  # Adjust the input array as needed\n",
        "optimal_value, optimal_point = optimize_program(input_array, 1)\n",
        "\n",
        "# Display the results 0.6862911497389104\n",
        "# Display the results 0.6862911497187705\n",
        "print(\"Optimal objective function value:\", optimal_value)\n",
        "print(\"Optimal objective function point:\", optimal_point)"
      ],
      "metadata": {
        "colab": {
          "base_uri": "https://localhost:8080/"
        },
        "id": "mk6b9X1KVVfx",
        "outputId": "a0be6073-bc8a-4657-f00f-ae4fce20fe3f"
      },
      "execution_count": 51,
      "outputs": [
        {
          "output_type": "stream",
          "name": "stdout",
          "text": [
            "Optimal objective function value: 0.6862911497187705\n",
            "Optimal objective function point: [0.58579088 0.58578169]\n"
          ]
        }
      ]
    },
    {
      "cell_type": "markdown",
      "source": [
        "**Function 3 (Initial Point)** <br>\n",
        "Given an interval $I$ and $n,k$ which are dimensions of an array, generate a numpy array of dimension $n \\times k$ and initialize it elementwise with a number randomly chosen from the interval $I$."
      ],
      "metadata": {
        "id": "Teiwa_CLklfX"
      }
    },
    {
      "cell_type": "code",
      "source": [
        "import numpy as np\n",
        "\n",
        "def generate_initial_point(n, k, interval_I):\n",
        "    \"\"\"\n",
        "    Generate an initial point numpy array of dimension n x k with random values from interval I.\n",
        "\n",
        "    Parameters:\n",
        "    - n: Number of rows.\n",
        "    - k: Number of columns.\n",
        "    - interval_I: Tuple representing the interval (start, end).\n",
        "\n",
        "    Returns:\n",
        "    - initial_point: Numpy array of shape (n, k) with random values from interval I.\n",
        "    \"\"\"\n",
        "    start, end = interval_I\n",
        "    end_inclusive = end + 1e-10  # A small offset to include the endpoint\n",
        "    initial_point = np.random.uniform(start, end_inclusive, size=(n, k))\n",
        "    return initial_point"
      ],
      "metadata": {
        "id": "a6dJbp_Yg-zZ"
      },
      "execution_count": 27,
      "outputs": []
    },
    {
      "cell_type": "code",
      "source": [
        "# Example usage:\n",
        "interval_I = (0, 1)  # Adjust the interval I as needed\n",
        "n = 2  # Number of rows\n",
        "k = 2  # Number of columns\n",
        "\n",
        "initial_point = generate_initial_point(n, k, interval_I)\n",
        "print(\"Initial Point:\\n\", initial_point)"
      ],
      "metadata": {
        "colab": {
          "base_uri": "https://localhost:8080/"
        },
        "id": "spkxyDEug_9M",
        "outputId": "0def7f9d-3f16-4f66-b640-28a202b98143"
      },
      "execution_count": 26,
      "outputs": [
        {
          "output_type": "stream",
          "name": "stdout",
          "text": [
            "Initial Point:\n",
            " [[0.8453254  0.12035419]\n",
            " [0.47678522 0.41089399]]\n"
          ]
        }
      ]
    },
    {
      "cell_type": "markdown",
      "source": [
        "**Function 4 (Particle Swarm Optimization)** <br>\n",
        "Function: The method in which the PSO algorithm will work is as follows: <br>\n",
        "1. The optimization routine will run for a given number of iterations (say, $T$ = 100) <br>\n",
        "2. The total number of particles in our swarm will be fixed, let us call this number $P$, for population <br>\n",
        "3. At each iteration, each of the particles shall occupy one of the locations in the $U$-space, i.e. the domain $U^n$. Thus, associated with each particle $i$, there is a matrix $U_i$ and the particle can obtain the fitness function for that $U_i$, given by $f(U_i)$. <br>\n",
        "4. Along with the location, there is also a velocity term $\\Delta U_i$, which decides the new position of the particle at the end of the iteration. This is again a matrix. <br>\n",
        "5. The initial locations and velocities have to be defined through some initialization procedure. One could use methods such as blue noise, white noise sampling, which allow for a good distribution. One could also see whether PSO methods are susceptible to minor changes in the initial conditions. <br>\n",
        "6. Once $f(U_i)$ is computed for all $i$, we find out the position of the best particle and the best value achieved through the algorithm <br>\n",
        "7. Once that is done, the state and velocity matrices are updated according to the update rule, which has three hyperparameters: $I_v$, the inertia weight, $S_d$, the social displacement component and $C_d$, the cognitive displacement component. <br>\n",
        "8. Once can also choose some norm during the update for considering the terms to be used. <br>\n",
        "9. Further, the algorithm should also track the personal best and global best values throughout the run of the algorithm <br>\n",
        "10. Since runtime of the algorithm is a good metric to be used, we also want the algorithm to compute the runtime."
      ],
      "metadata": {
        "id": "yJYCD19Cng7D"
      }
    },
    {
      "cell_type": "markdown",
      "source": [
        "**Function 4.1 (Initialization)** <br>"
      ],
      "metadata": {
        "id": "CXCEci8zJkqg"
      }
    },
    {
      "cell_type": "code",
      "source": [
        "import numpy as np\n",
        "\n",
        "def initialize_particles(num_particles, n, k, interval_I):\n",
        "    \"\"\"\n",
        "    Initialize particle positions and velocities.\n",
        "\n",
        "    Parameters:\n",
        "    - num_particles: Number of particles in the swarm.\n",
        "    - num_dimensions: Number of dimensions in the search space.\n",
        "    - interval_I: Tuple representing the interval (start, end) for random initialization.\n",
        "\n",
        "    Returns:\n",
        "    - positions: List of numpy arrays, each of shape (num_dimensions,) representing particle positions.\n",
        "    - velocities: List of numpy arrays, each of shape (num_dimensions,) representing particle velocities.\n",
        "    \"\"\"\n",
        "    positions = [generate_initial_point(n, k, interval_I) for _ in range(num_particles)]\n",
        "    velocities = [generate_initial_point(n, k, interval_I) for _ in range(num_particles)]\n",
        "    return positions, velocities"
      ],
      "metadata": {
        "id": "okkAQa0_Jpkf"
      },
      "execution_count": 28,
      "outputs": []
    },
    {
      "cell_type": "code",
      "source": [
        "# Example usage:\n",
        "num_particles_example = 10\n",
        "n = 2\n",
        "k = 2\n",
        "interval_I_example = (0, 1)\n",
        "\n",
        "initial_positions, initial_velocities = initialize_particles(num_particles_example, n, k, interval_I_example)"
      ],
      "metadata": {
        "id": "ZR31iFofKZPI"
      },
      "execution_count": 29,
      "outputs": []
    },
    {
      "cell_type": "markdown",
      "source": [
        "**Function 4.2 (Fitness Computation)** <br>"
      ],
      "metadata": {
        "id": "0LDD8nE0LcZC"
      }
    },
    {
      "cell_type": "code",
      "source": [
        "def evaluate_fitness(positions, n):\n",
        "    \"\"\"\n",
        "    Evaluate the fitness function for each particle.\n",
        "\n",
        "    Parameters:\n",
        "    - positions: List of numpy arrays, each of shape (num_dimensions,) representing particle positions.\n",
        "    - n: Number of rows.\n",
        "\n",
        "    Returns:\n",
        "    - fitness_values: List of fitness values corresponding to each particle.\n",
        "    \"\"\"\n",
        "    fitness_values = [optimize_program(position) for position in positions]\n",
        "    return fitness_values"
      ],
      "metadata": {
        "id": "WTo3G_cTN-b5"
      },
      "execution_count": 31,
      "outputs": []
    },
    {
      "cell_type": "code",
      "source": [
        "# Example usage:\n",
        "num_particles = 100\n",
        "n = 2\n",
        "k = 2\n",
        "interval_I = (0, 1)\n",
        "\n",
        "# Initialize particles\n",
        "positions, velocities = initialize_particles(num_particles, n, k, interval_I)\n",
        "\n",
        "# Evaluate fitness values\n",
        "fitness_values = evaluate_fitness(positions, n)\n",
        "\n",
        "# Print the results\n",
        "for i, (position, fitness) in enumerate(zip(positions, fitness_values), 1):\n",
        "    print(f\"Particle {i} - Position: {position}, Fitness: {fitness}\")"
      ],
      "metadata": {
        "colab": {
          "base_uri": "https://localhost:8080/"
        },
        "id": "jfkVbzCmN_uC",
        "outputId": "b60a632c-e396-431a-f925-0fd96eea6c9b"
      },
      "execution_count": 32,
      "outputs": [
        {
          "output_type": "stream",
          "name": "stdout",
          "text": [
            "Particle 1 - Position: [[0.04210007 0.69747627]\n",
            " [0.27131026 0.39400924]], Fitness: 1.925929944387236e-34\n",
            "Particle 2 - Position: [[0.04561515 0.70734221]\n",
            " [0.69107376 0.14737404]], Fitness: 0.41698964654760884\n",
            "Particle 3 - Position: [[0.35097926 0.21116469]\n",
            " [0.0065428  0.41050032]], Fitness: 0.09526653086148638\n",
            "Particle 4 - Position: [[0.72504757 0.00224745]\n",
            " [0.82980945 0.39457225]], Fitness: 0.6820403622508151\n",
            "Particle 5 - Position: [[0.68946934 0.33328376]\n",
            " [0.89516187 0.18458289]], Fitness: 0.42500457289986304\n",
            "Particle 6 - Position: [[0.28822633 0.91314075]\n",
            " [0.67247232 0.57515803]], Fitness: 0.011238592732154717\n",
            "Particle 7 - Position: [[0.66099499 0.36469045]\n",
            " [0.32689541 0.2442064 ]], Fitness: 0.12300140818185418\n",
            "Particle 8 - Position: [[0.86566235 0.67588971]\n",
            " [0.32191042 0.82820403]], Fitness: 0.02670637617067087\n",
            "Particle 9 - Position: [[0.822013   0.45358089]\n",
            " [0.53209417 0.38548348]], Fitness: 0.12296371874763214\n",
            "Particle 10 - Position: [[0.80325018 0.43849913]\n",
            " [0.72232017 0.62229619]], Fitness: 0.1264951198179297\n",
            "Particle 11 - Position: [[0.71496668 0.77076027]\n",
            " [0.07671589 0.07839183]], Fitness: 1.925929944387236e-34\n",
            "Particle 12 - Position: [[0.52172574 0.0046513 ]\n",
            " [0.62822835 0.4917668 ]], Fitness: 0.6740869519794938\n",
            "Particle 13 - Position: [[0.45615349 0.59423551]\n",
            " [0.98875262 0.97223765]], Fitness: 0.0001406596775104686\n",
            "Particle 14 - Position: [[0.08925649 0.72808834]\n",
            " [0.91255553 0.61366785]], Fitness: 0.06254441681569778\n",
            "Particle 15 - Position: [[0.48498038 0.70221426]\n",
            " [0.30236639 0.23136275]], Fitness: 0.030862701043060985\n",
            "Particle 16 - Position: [[0.9442968  0.92116002]\n",
            " [0.19059557 0.73559867]], Fitness: 0.0003038521373814674\n",
            "Particle 17 - Position: [[0.32243009 0.23315099]\n",
            " [0.82360129 0.83532089]], Fitness: 0.04372859455859418\n",
            "Particle 18 - Position: [[0.05506376 0.78735422]\n",
            " [0.57408819 0.00519291]], Fitness: 0.6739091176962633\n",
            "Particle 19 - Position: [[0.21193326 0.38532234]\n",
            " [0.94595642 0.45617268]], Fitness: 0.16826897210920067\n",
            "Particle 20 - Position: [[0.70048762 0.53327752]\n",
            " [0.57238971 0.03292316]], Fitness: 0.6087788688750435\n",
            "Particle 21 - Position: [[0.96788084 0.87093518]\n",
            " [0.19099277 0.14926032]], Fitness: 0.026522540555230525\n",
            "Particle 22 - Position: [[0.23407795 0.63797863]\n",
            " [0.65217064 0.39988573]], Fitness: 0.08942318305494784\n",
            "Particle 23 - Position: [[0.12734115 0.21440115]\n",
            " [0.17515912 0.69495573]], Fitness: 1.925929944387236e-34\n",
            "Particle 24 - Position: [[0.2291834  0.69607868]\n",
            " [0.87559929 0.72416987]], Fitness: 0.01626740857293501\n",
            "Particle 25 - Position: [[0.15084551 0.67179181]\n",
            " [0.25939352 0.57341467]], Fitness: 1.925929944387236e-34\n",
            "Particle 26 - Position: [[0.11160317 0.95461749]\n",
            " [0.75366375 0.90960168]], Fitness: 1.925929944387236e-34\n",
            "Particle 27 - Position: [[0.14717048 0.69677031]\n",
            " [0.29825924 0.4532585 ]], Fitness: 1.925929944387236e-34\n",
            "Particle 28 - Position: [[0.57884477 0.60296927]\n",
            " [0.96206964 0.27269884]], Fitness: 0.3411472123315077\n",
            "Particle 29 - Position: [[0.34332983 0.90845168]\n",
            " [0.52091273 0.74835097]], Fitness: 1.925929944387236e-34\n",
            "Particle 30 - Position: [[0.09549398 0.2238654 ]\n",
            " [0.60250993 0.51989069]], Fitness: 0.010054723685254636\n",
            "Particle 31 - Position: [[0.28087494 0.47018505]\n",
            " [0.11517218 0.91090953]], Fitness: 1.925929944387236e-34\n",
            "Particle 32 - Position: [[0.44078214 0.3188472 ]\n",
            " [0.38391778 0.52497961]], Fitness: 0.04364105036027497\n",
            "Particle 33 - Position: [[0.51667227 0.35641573]\n",
            " [0.57892941 0.19811652]], Fitness: 0.28342279429210454\n",
            "Particle 34 - Position: [[0.42407995 0.87451562]\n",
            " [0.95161269 0.68810345]], Fitness: 0.0437331698981487\n",
            "Particle 35 - Position: [[0.28028913 0.80261879]\n",
            " [0.53231375 0.50369396]], Fitness: 0.001484425134888502\n",
            "Particle 36 - Position: [[0.30359705 0.61042467]\n",
            " [0.81556619 0.77777817]], Fitness: 0.0010983962232897944\n",
            "Particle 37 - Position: [[0.31152823 0.76418548]\n",
            " [0.85470592 0.28007197]], Fitness: 0.2971907079734505\n",
            "Particle 38 - Position: [[0.72171418 0.62562796]\n",
            " [0.04676488 0.44179903]], Fitness: 0.009460183620006082\n",
            "Particle 39 - Position: [[0.26144127 0.83269887]\n",
            " [0.59320197 0.02181578]], Fitness: 0.6363847111832375\n",
            "Particle 40 - Position: [[0.12259714 0.04526596]\n",
            " [0.18141854 0.81345051]], Fitness: 0.2587230366616965\n",
            "Particle 41 - Position: [[0.9050906  0.01638178]\n",
            " [0.02857672 0.48407518]], Fitness: 0.6615833363786068\n",
            "Particle 42 - Position: [[0.6358489  0.41176494]\n",
            " [0.8429177  0.82905996]], Fitness: 0.07317502139489096\n",
            "Particle 43 - Position: [[0.54694146 0.89071405]\n",
            " [0.29153095 0.02359471]], Fitness: 0.5781314504001027\n",
            "Particle 44 - Position: [[0.69208529 0.59150143]\n",
            " [0.21553581 0.40380158]], Fitness: 0.011338972041168498\n",
            "Particle 45 - Position: [[0.74902131 0.69976393]\n",
            " [0.66837842 0.90166055]], Fitness: 0.0022339650621714374\n",
            "Particle 46 - Position: [[0.79954854 0.36545802]\n",
            " [0.53660142 0.0642434 ]], Fitness: 0.528666841113873\n",
            "Particle 47 - Position: [[0.7703197  0.11161591]\n",
            " [0.86715754 0.31641661]], Fitness: 0.49750551044175473\n",
            "Particle 48 - Position: [[0.3246282  0.11152762]\n",
            " [0.11691345 0.87315446]], Fitness: 0.28216709900226866\n",
            "Particle 49 - Position: [[0.85672567 0.23080458]\n",
            " [0.04339225 0.87406631]], Fitness: 0.3557382613298964\n",
            "Particle 50 - Position: [[0.77402501 0.49675827]\n",
            " [0.60731461 0.54685641]], Fitness: 0.07578485247111569\n",
            "Particle 51 - Position: [[0.90727324 0.61696332]\n",
            " [0.60589004 0.73758889]], Fitness: 0.05950285469429985\n",
            "Particle 52 - Position: [[0.00769532 0.59171256]\n",
            " [0.61796496 0.90577336]], Fitness: 1.925929944387236e-34\n",
            "Particle 53 - Position: [[0.99846928 0.78953979]\n",
            " [0.37622602 0.63923102]], Fitness: 0.02422045938977865\n",
            "Particle 54 - Position: [[0.60381622 0.7643259 ]\n",
            " [0.26107307 0.36293246]], Fitness: 1.925929944387236e-34\n",
            "Particle 55 - Position: [[0.61157297 0.52110737]\n",
            " [0.23866028 0.08313078]], Fitness: 0.27773285970143535\n",
            "Particle 56 - Position: [[0.60976771 0.10678142]\n",
            " [0.73177439 0.09645607]], Fitness: 0.5136065156803304\n",
            "Particle 57 - Position: [[0.01149228 0.06684552]\n",
            " [0.33843291 0.70211242]], Fitness: 1.925929944387236e-34\n",
            "Particle 58 - Position: [[0.30455787 0.81505643]\n",
            " [0.89360448 0.30039069]], Fitness: 0.28912023384669094\n",
            "Particle 59 - Position: [[0.38310545 0.1754176 ]\n",
            " [0.79258632 0.46056783]], Fitness: 0.18599203113066487\n",
            "Particle 60 - Position: [[0.40763563 0.21234757]\n",
            " [0.29738394 0.4124263 ]], Fitness: 0.14210118939379823\n",
            "Particle 61 - Position: [[0.14549559 0.01190223]\n",
            " [0.2314319  0.87551953]], Fitness: 0.5770024930619537\n",
            "Particle 62 - Position: [[0.5348751  0.44567644]\n",
            " [0.2713819  0.33550957]], Fitness: 0.015081949468550414\n",
            "Particle 63 - Position: [[0.04556083 0.91053498]\n",
            " [0.93249892 0.69711933]], Fitness: 0.03594474111720895\n",
            "Particle 64 - Position: [[0.96506504 0.43654363]\n",
            " [0.93006605 0.10408766]], Fitness: 0.538486990061362\n",
            "Particle 65 - Position: [[0.66621499 0.73997932]\n",
            " [0.34804176 0.73475015]], Fitness: 1.925929944387236e-34\n",
            "Particle 66 - Position: [[0.45963713 0.34705238]\n",
            " [0.20979808 0.49289097]], Fitness: 0.03373338000465073\n",
            "Particle 67 - Position: [[0.32383928 0.59332887]\n",
            " [0.71776421 0.38744607]], Fitness: 0.13021941310442925\n",
            "Particle 68 - Position: [[0.54575322 0.67035185]\n",
            " [0.75498766 0.08311709]], Fitness: 0.5407906310833989\n",
            "Particle 69 - Position: [[0.62478182 0.02911653]\n",
            " [0.10991849 0.26832925]], Fitness: 0.6232553839760009\n",
            "Particle 70 - Position: [[0.61409701 0.01920689]\n",
            " [0.98175269 0.53491738]], Fitness: 0.6437722485900756\n",
            "Particle 71 - Position: [[0.28650671 0.79157919]\n",
            " [0.72390205 0.71129623]], Fitness: 0.00015294144131025605\n",
            "Particle 72 - Position: [[0.64859965 0.86686702]\n",
            " [0.56391361 0.6355229 ]], Fitness: 1.925929944387236e-34\n",
            "Particle 73 - Position: [[0.66271974 0.68246443]\n",
            " [0.34783765 0.6063491 ]], Fitness: 1.925929944387236e-34\n",
            "Particle 74 - Position: [[0.9266004  0.45035697]\n",
            " [0.16989796 0.86135134]], Fitness: 0.1655929969986727\n",
            "Particle 75 - Position: [[0.2717991  0.61843022]\n",
            " [0.47778389 0.97612566]], Fitness: 1.925929944387236e-34\n",
            "Particle 76 - Position: [[0.80175861 0.0235327 ]\n",
            " [0.36495606 0.71414037]], Fitness: 0.6463649422394522\n",
            "Particle 77 - Position: [[0.79000487 0.14626111]\n",
            " [0.51463431 0.86419336]], Fitness: 0.44934727987478595\n",
            "Particle 78 - Position: [[0.35167216 0.39432378]\n",
            " [0.3296828  0.87052624]], Fitness: 1.925929944387236e-34\n",
            "Particle 79 - Position: [[0.68456563 0.45483817]\n",
            " [0.05608248 0.54879131]], Fitness: 0.06588279659339874\n",
            "Particle 80 - Position: [[0.01733627 0.73389693]\n",
            " [0.14034996 0.31857882]], Fitness: 1.925929944387236e-34\n",
            "Particle 81 - Position: [[0.47651346 0.12421519]\n",
            " [0.71185487 0.11453812]], Fitness: 0.47810128623691955\n",
            "Particle 82 - Position: [[0.83683694 0.34118347]\n",
            " [0.71306771 0.59340305]], Fitness: 0.22557745026129125\n",
            "Particle 83 - Position: [[0.49254622 0.98281867]\n",
            " [0.90915143 0.08126227]], Fitness: 0.5672146008022981\n",
            "Particle 84 - Position: [[0.2898576  0.40012574]\n",
            " [0.59657762 0.21510868]], Fitness: 0.2665081482128252\n",
            "Particle 85 - Position: [[0.88879842 0.50667814]\n",
            " [0.35225828 0.14316211]], Fitness: 0.22665258768427377\n",
            "Particle 86 - Position: [[0.19172535 0.67716666]\n",
            " [0.22592125 0.49147495]], Fitness: 1.925929944387236e-34\n",
            "Particle 87 - Position: [[0.3675267  0.95233744]\n",
            " [0.93249032 0.8755387 ]], Fitness: 0.0019224098158549762\n",
            "Particle 88 - Position: [[0.10204616 0.00512118]\n",
            " [0.97731844 0.71993243]], Fitness: 0.6184919150384921\n",
            "Particle 89 - Position: [[0.47668787 0.71033523]\n",
            " [0.0594547  0.19538351]], Fitness: 1.925929944387236e-34\n",
            "Particle 90 - Position: [[0.35323036 0.21749309]\n",
            " [0.48796764 0.42928335]], Fitness: 0.0881496445586934\n",
            "Particle 91 - Position: [[0.64974644 0.03971123]\n",
            " [0.28714597 0.09678998]], Fitness: 0.6040313958362076\n",
            "Particle 92 - Position: [[0.35103692 0.87472376]\n",
            " [0.95517594 0.06597194]], Fitness: 0.5935919183923574\n",
            "Particle 93 - Position: [[0.51260163 0.69923809]\n",
            " [0.20208058 0.96212221]], Fitness: 1.925929944387236e-34\n",
            "Particle 94 - Position: [[0.8807805  0.89844782]\n",
            " [0.59305414 0.96860549]], Fitness: 1.925929944387236e-34\n",
            "Particle 95 - Position: [[0.39167013 0.07995604]\n",
            " [0.7993073  0.83433012]], Fitness: 0.42735780604604034\n",
            "Particle 96 - Position: [[0.16356839 0.71268963]\n",
            " [0.77514014 0.9265796 ]], Fitness: 1.925929944387236e-34\n",
            "Particle 97 - Position: [[0.80319897 0.12908422]\n",
            " [0.37548261 0.65044972]], Fitness: 0.4783276917563186\n",
            "Particle 98 - Position: [[0.17610029 0.72065581]\n",
            " [0.78978518 0.80165924]], Fitness: 1.925929944387236e-34\n",
            "Particle 99 - Position: [[0.12050067 0.56364619]\n",
            " [0.74168264 0.79976433]], Fitness: 1.925929944387236e-34\n",
            "Particle 100 - Position: [[0.47779948 0.34740688]\n",
            " [0.28584753 0.8184251 ]], Fitness: 0.042401706808813125\n"
          ]
        }
      ]
    },
    {
      "cell_type": "markdown",
      "source": [
        "**Function 4.3 (Retention)** <br>"
      ],
      "metadata": {
        "id": "OE8cR1xuPA4b"
      }
    },
    {
      "cell_type": "code",
      "source": [
        "def update_best_fitness(current_best, fitness_values):\n",
        "    \"\"\"\n",
        "\n",
        "    Parameters:\n",
        "    - current_best: List of the current best fitness values.\n",
        "    - fitness_values: List of the new fitness values.\n",
        "\n",
        "\n",
        "    Returns:\n",
        "    - updated_best: List of updated best fitness values.\n",
        "    \"\"\"\n",
        "    # Update best fitness\n",
        "    current_best = max(current_best, fitness_values)\n",
        "    return current_best"
      ],
      "metadata": {
        "id": "jMftnCZSQM0l"
      },
      "execution_count": 33,
      "outputs": []
    },
    {
      "cell_type": "code",
      "source": [
        "print(update_best_fitness(fitness_values, fitness_values))"
      ],
      "metadata": {
        "colab": {
          "base_uri": "https://localhost:8080/"
        },
        "id": "dLBYVK6JbAoC",
        "outputId": "c2307b4d-228b-4bd1-9be1-b37166f8b7bc"
      },
      "execution_count": 34,
      "outputs": [
        {
          "output_type": "stream",
          "name": "stdout",
          "text": [
            "[1.925929944387236e-34, 0.41698964654760884, 0.09526653086148638, 0.6820403622508151, 0.42500457289986304, 0.011238592732154717, 0.12300140818185418, 0.02670637617067087, 0.12296371874763214, 0.1264951198179297, 1.925929944387236e-34, 0.6740869519794938, 0.0001406596775104686, 0.06254441681569778, 0.030862701043060985, 0.0003038521373814674, 0.04372859455859418, 0.6739091176962633, 0.16826897210920067, 0.6087788688750435, 0.026522540555230525, 0.08942318305494784, 1.925929944387236e-34, 0.01626740857293501, 1.925929944387236e-34, 1.925929944387236e-34, 1.925929944387236e-34, 0.3411472123315077, 1.925929944387236e-34, 0.010054723685254636, 1.925929944387236e-34, 0.04364105036027497, 0.28342279429210454, 0.0437331698981487, 0.001484425134888502, 0.0010983962232897944, 0.2971907079734505, 0.009460183620006082, 0.6363847111832375, 0.2587230366616965, 0.6615833363786068, 0.07317502139489096, 0.5781314504001027, 0.011338972041168498, 0.0022339650621714374, 0.528666841113873, 0.49750551044175473, 0.28216709900226866, 0.3557382613298964, 0.07578485247111569, 0.05950285469429985, 1.925929944387236e-34, 0.02422045938977865, 1.925929944387236e-34, 0.27773285970143535, 0.5136065156803304, 1.925929944387236e-34, 0.28912023384669094, 0.18599203113066487, 0.14210118939379823, 0.5770024930619537, 0.015081949468550414, 0.03594474111720895, 0.538486990061362, 1.925929944387236e-34, 0.03373338000465073, 0.13021941310442925, 0.5407906310833989, 0.6232553839760009, 0.6437722485900756, 0.00015294144131025605, 1.925929944387236e-34, 1.925929944387236e-34, 0.1655929969986727, 1.925929944387236e-34, 0.6463649422394522, 0.44934727987478595, 1.925929944387236e-34, 0.06588279659339874, 1.925929944387236e-34, 0.47810128623691955, 0.22557745026129125, 0.5672146008022981, 0.2665081482128252, 0.22665258768427377, 1.925929944387236e-34, 0.0019224098158549762, 0.6184919150384921, 1.925929944387236e-34, 0.0881496445586934, 0.6040313958362076, 0.5935919183923574, 1.925929944387236e-34, 1.925929944387236e-34, 0.42735780604604034, 1.925929944387236e-34, 0.4783276917563186, 1.925929944387236e-34, 1.925929944387236e-34, 0.042401706808813125]\n"
          ]
        }
      ]
    },
    {
      "cell_type": "code",
      "source": [
        "def update_best_positions(positions, fitness_values, current_best_positions, current_best, n_particles):\n",
        "    \"\"\"\n",
        "    Update the best position at a specific index based on the current positions and fitness values.\n",
        "\n",
        "    Parameters:\n",
        "    - current_best_positions: List of the current best positions.\n",
        "    - positions: List of the new positions.\n",
        "    - fitness_values: List of the fitness values corresponding to the positions.\n",
        "    - index: Index at which to update the best position.\n",
        "\n",
        "    Returns:\n",
        "    - updated_best_positions: List of updated best positions.\n",
        "    \"\"\"\n",
        "    for index in range(0, n_particles):\n",
        "      if fitness_values[index] > current_best[index]:\n",
        "          current_best_positions[index] = positions[index]\n",
        "    return current_best_positions\n"
      ],
      "metadata": {
        "id": "92OGVr6ZQPCK"
      },
      "execution_count": 35,
      "outputs": []
    },
    {
      "cell_type": "code",
      "source": [
        "print(update_best_positions(positions, fitness_values, positions, fitness_values, 100))"
      ],
      "metadata": {
        "id": "BUdNIfV2bUQa",
        "colab": {
          "base_uri": "https://localhost:8080/"
        },
        "outputId": "3228a084-3ae4-426f-a343-1fff1150c773"
      },
      "execution_count": 38,
      "outputs": [
        {
          "output_type": "stream",
          "name": "stdout",
          "text": [
            "[array([[0.04210007, 0.69747627],\n",
            "       [0.27131026, 0.39400924]]), array([[0.04561515, 0.70734221],\n",
            "       [0.69107376, 0.14737404]]), array([[0.35097926, 0.21116469],\n",
            "       [0.0065428 , 0.41050032]]), array([[0.72504757, 0.00224745],\n",
            "       [0.82980945, 0.39457225]]), array([[0.68946934, 0.33328376],\n",
            "       [0.89516187, 0.18458289]]), array([[0.28822633, 0.91314075],\n",
            "       [0.67247232, 0.57515803]]), array([[0.66099499, 0.36469045],\n",
            "       [0.32689541, 0.2442064 ]]), array([[0.86566235, 0.67588971],\n",
            "       [0.32191042, 0.82820403]]), array([[0.822013  , 0.45358089],\n",
            "       [0.53209417, 0.38548348]]), array([[0.80325018, 0.43849913],\n",
            "       [0.72232017, 0.62229619]]), array([[0.71496668, 0.77076027],\n",
            "       [0.07671589, 0.07839183]]), array([[0.52172574, 0.0046513 ],\n",
            "       [0.62822835, 0.4917668 ]]), array([[0.45615349, 0.59423551],\n",
            "       [0.98875262, 0.97223765]]), array([[0.08925649, 0.72808834],\n",
            "       [0.91255553, 0.61366785]]), array([[0.48498038, 0.70221426],\n",
            "       [0.30236639, 0.23136275]]), array([[0.9442968 , 0.92116002],\n",
            "       [0.19059557, 0.73559867]]), array([[0.32243009, 0.23315099],\n",
            "       [0.82360129, 0.83532089]]), array([[0.05506376, 0.78735422],\n",
            "       [0.57408819, 0.00519291]]), array([[0.21193326, 0.38532234],\n",
            "       [0.94595642, 0.45617268]]), array([[0.70048762, 0.53327752],\n",
            "       [0.57238971, 0.03292316]]), array([[0.96788084, 0.87093518],\n",
            "       [0.19099277, 0.14926032]]), array([[0.23407795, 0.63797863],\n",
            "       [0.65217064, 0.39988573]]), array([[0.12734115, 0.21440115],\n",
            "       [0.17515912, 0.69495573]]), array([[0.2291834 , 0.69607868],\n",
            "       [0.87559929, 0.72416987]]), array([[0.15084551, 0.67179181],\n",
            "       [0.25939352, 0.57341467]]), array([[0.11160317, 0.95461749],\n",
            "       [0.75366375, 0.90960168]]), array([[0.14717048, 0.69677031],\n",
            "       [0.29825924, 0.4532585 ]]), array([[0.57884477, 0.60296927],\n",
            "       [0.96206964, 0.27269884]]), array([[0.34332983, 0.90845168],\n",
            "       [0.52091273, 0.74835097]]), array([[0.09549398, 0.2238654 ],\n",
            "       [0.60250993, 0.51989069]]), array([[0.28087494, 0.47018505],\n",
            "       [0.11517218, 0.91090953]]), array([[0.44078214, 0.3188472 ],\n",
            "       [0.38391778, 0.52497961]]), array([[0.51667227, 0.35641573],\n",
            "       [0.57892941, 0.19811652]]), array([[0.42407995, 0.87451562],\n",
            "       [0.95161269, 0.68810345]]), array([[0.28028913, 0.80261879],\n",
            "       [0.53231375, 0.50369396]]), array([[0.30359705, 0.61042467],\n",
            "       [0.81556619, 0.77777817]]), array([[0.31152823, 0.76418548],\n",
            "       [0.85470592, 0.28007197]]), array([[0.72171418, 0.62562796],\n",
            "       [0.04676488, 0.44179903]]), array([[0.26144127, 0.83269887],\n",
            "       [0.59320197, 0.02181578]]), array([[0.12259714, 0.04526596],\n",
            "       [0.18141854, 0.81345051]]), array([[0.9050906 , 0.01638178],\n",
            "       [0.02857672, 0.48407518]]), array([[0.6358489 , 0.41176494],\n",
            "       [0.8429177 , 0.82905996]]), array([[0.54694146, 0.89071405],\n",
            "       [0.29153095, 0.02359471]]), array([[0.69208529, 0.59150143],\n",
            "       [0.21553581, 0.40380158]]), array([[0.74902131, 0.69976393],\n",
            "       [0.66837842, 0.90166055]]), array([[0.79954854, 0.36545802],\n",
            "       [0.53660142, 0.0642434 ]]), array([[0.7703197 , 0.11161591],\n",
            "       [0.86715754, 0.31641661]]), array([[0.3246282 , 0.11152762],\n",
            "       [0.11691345, 0.87315446]]), array([[0.85672567, 0.23080458],\n",
            "       [0.04339225, 0.87406631]]), array([[0.77402501, 0.49675827],\n",
            "       [0.60731461, 0.54685641]]), array([[0.90727324, 0.61696332],\n",
            "       [0.60589004, 0.73758889]]), array([[0.00769532, 0.59171256],\n",
            "       [0.61796496, 0.90577336]]), array([[0.99846928, 0.78953979],\n",
            "       [0.37622602, 0.63923102]]), array([[0.60381622, 0.7643259 ],\n",
            "       [0.26107307, 0.36293246]]), array([[0.61157297, 0.52110737],\n",
            "       [0.23866028, 0.08313078]]), array([[0.60976771, 0.10678142],\n",
            "       [0.73177439, 0.09645607]]), array([[0.01149228, 0.06684552],\n",
            "       [0.33843291, 0.70211242]]), array([[0.30455787, 0.81505643],\n",
            "       [0.89360448, 0.30039069]]), array([[0.38310545, 0.1754176 ],\n",
            "       [0.79258632, 0.46056783]]), array([[0.40763563, 0.21234757],\n",
            "       [0.29738394, 0.4124263 ]]), array([[0.14549559, 0.01190223],\n",
            "       [0.2314319 , 0.87551953]]), array([[0.5348751 , 0.44567644],\n",
            "       [0.2713819 , 0.33550957]]), array([[0.04556083, 0.91053498],\n",
            "       [0.93249892, 0.69711933]]), array([[0.96506504, 0.43654363],\n",
            "       [0.93006605, 0.10408766]]), array([[0.66621499, 0.73997932],\n",
            "       [0.34804176, 0.73475015]]), array([[0.45963713, 0.34705238],\n",
            "       [0.20979808, 0.49289097]]), array([[0.32383928, 0.59332887],\n",
            "       [0.71776421, 0.38744607]]), array([[0.54575322, 0.67035185],\n",
            "       [0.75498766, 0.08311709]]), array([[0.62478182, 0.02911653],\n",
            "       [0.10991849, 0.26832925]]), array([[0.61409701, 0.01920689],\n",
            "       [0.98175269, 0.53491738]]), array([[0.28650671, 0.79157919],\n",
            "       [0.72390205, 0.71129623]]), array([[0.64859965, 0.86686702],\n",
            "       [0.56391361, 0.6355229 ]]), array([[0.66271974, 0.68246443],\n",
            "       [0.34783765, 0.6063491 ]]), array([[0.9266004 , 0.45035697],\n",
            "       [0.16989796, 0.86135134]]), array([[0.2717991 , 0.61843022],\n",
            "       [0.47778389, 0.97612566]]), array([[0.80175861, 0.0235327 ],\n",
            "       [0.36495606, 0.71414037]]), array([[0.79000487, 0.14626111],\n",
            "       [0.51463431, 0.86419336]]), array([[0.35167216, 0.39432378],\n",
            "       [0.3296828 , 0.87052624]]), array([[0.68456563, 0.45483817],\n",
            "       [0.05608248, 0.54879131]]), array([[0.01733627, 0.73389693],\n",
            "       [0.14034996, 0.31857882]]), array([[0.47651346, 0.12421519],\n",
            "       [0.71185487, 0.11453812]]), array([[0.83683694, 0.34118347],\n",
            "       [0.71306771, 0.59340305]]), array([[0.49254622, 0.98281867],\n",
            "       [0.90915143, 0.08126227]]), array([[0.2898576 , 0.40012574],\n",
            "       [0.59657762, 0.21510868]]), array([[0.88879842, 0.50667814],\n",
            "       [0.35225828, 0.14316211]]), array([[0.19172535, 0.67716666],\n",
            "       [0.22592125, 0.49147495]]), array([[0.3675267 , 0.95233744],\n",
            "       [0.93249032, 0.8755387 ]]), array([[0.10204616, 0.00512118],\n",
            "       [0.97731844, 0.71993243]]), array([[0.47668787, 0.71033523],\n",
            "       [0.0594547 , 0.19538351]]), array([[0.35323036, 0.21749309],\n",
            "       [0.48796764, 0.42928335]]), array([[0.64974644, 0.03971123],\n",
            "       [0.28714597, 0.09678998]]), array([[0.35103692, 0.87472376],\n",
            "       [0.95517594, 0.06597194]]), array([[0.51260163, 0.69923809],\n",
            "       [0.20208058, 0.96212221]]), array([[0.8807805 , 0.89844782],\n",
            "       [0.59305414, 0.96860549]]), array([[0.39167013, 0.07995604],\n",
            "       [0.7993073 , 0.83433012]]), array([[0.16356839, 0.71268963],\n",
            "       [0.77514014, 0.9265796 ]]), array([[0.80319897, 0.12908422],\n",
            "       [0.37548261, 0.65044972]]), array([[0.17610029, 0.72065581],\n",
            "       [0.78978518, 0.80165924]]), array([[0.12050067, 0.56364619],\n",
            "       [0.74168264, 0.79976433]]), array([[0.47779948, 0.34740688],\n",
            "       [0.28584753, 0.8184251 ]])]\n"
          ]
        }
      ]
    },
    {
      "cell_type": "code",
      "source": [
        "def find_global_best_position(current_global_best, current_global_best_value, positions, fitness_values):\n",
        "    \"\"\"\n",
        "    Find the global best position based on the fitness values.\n",
        "\n",
        "    Parameters:\n",
        "    - current_global_best: Current global best position.\n",
        "    - current_global_best_value: Current global best fitness value.\n",
        "    - positions: List of particle positions.\n",
        "    - fitness_values: List of fitness values corresponding to the positions.\n",
        "\n",
        "    Returns:\n",
        "    - updated_global_best_position: Updated global best position.\n",
        "    - updated_global_best_value: Updated global best fitness value.\n",
        "    \"\"\"\n",
        "    max_fitness = max(fitness_values)\n",
        "\n",
        "    if max_fitness > current_global_best_value:\n",
        "        max_index = fitness_values.index(max_fitness)\n",
        "        updated_global_best_position = positions[max_index]\n",
        "        updated_global_best_value = max_fitness\n",
        "    else:\n",
        "        updated_global_best_position = current_global_best\n",
        "        updated_global_best_value = current_global_best_value\n",
        "\n",
        "    return updated_global_best_position, updated_global_best_value\n"
      ],
      "metadata": {
        "id": "1xZKMzjuUkcX"
      },
      "execution_count": 39,
      "outputs": []
    },
    {
      "cell_type": "markdown",
      "source": [
        "**Function 4.4 (Velocity Update)**"
      ],
      "metadata": {
        "id": "BE8iPUYkRLN8"
      }
    },
    {
      "cell_type": "code",
      "source": [
        "import numpy as np\n",
        "\n",
        "def update_particles(positions, velocities, global_best, personal_best, inertia_weight, social_weight, cognitive_weight, interval_I):\n",
        "    \"\"\"\n",
        "    Update particle velocities.\n",
        "\n",
        "    Parameters:\n",
        "    - positions: List of numpy arrays, each of shape (num_dimensions,) representing particle positions.\n",
        "    - velocities: List of numpy arrays, each of shape (num_dimensions,) representing particle velocities.\n",
        "    - global_best: Global best position.\n",
        "    - personal_best: List of personal best positions for each particle.\n",
        "    - inertia_weight: Inertia weight parameter.\n",
        "    - social_weight: Social weight parameter.\n",
        "    - cognitive_weight: Cognitive weight parameter.\n",
        "    - interval_I: Tuple representing the interval (start, end) for random initialization.\n",
        "\n",
        "    Returns:\n",
        "    - updated_velocities: List of updated particle velocities.\n",
        "    \"\"\"\n",
        "    num_particles = len(positions)\n",
        "    num_dimensions = len(positions[0])\n",
        "\n",
        "    updated_velocities = []\n",
        "    updated_positions = []\n",
        "\n",
        "    for i in range(num_particles):\n",
        "        # Inertia term\n",
        "        inertia_term = inertia_weight * velocities[i]\n",
        "\n",
        "        # Social term\n",
        "        social_term = social_weight * np.random.rand() * (global_best - positions[i])\n",
        "\n",
        "        # Cognitive term\n",
        "        cognitive_term = cognitive_weight * np.random.rand() * (personal_best[i] - positions[i])\n",
        "\n",
        "        # Update velocity for the current particle\n",
        "        updated_velocity = inertia_term + social_term + cognitive_term\n",
        "\n",
        "        # Clip velocity to the interval\n",
        "        velocity_magnitude = np.linalg.norm(updated_velocity)\n",
        "        max_velocity_magnitude = interval_I[1] - interval_I[0]\n",
        "        normalized_velocity = (updated_velocity / velocity_magnitude) * max_velocity_magnitude\n",
        "        updated_velocity = np.clip(normalized_velocity, -max_velocity_magnitude, max_velocity_magnitude)\n",
        "\n",
        "        updated_position = np.clip(positions[i] + updated_velocity, interval_I[0], interval_I[1])\n",
        "        updated_velocities.append(updated_velocity)\n",
        "        updated_positions.append(updated_position)\n",
        "    return updated_positions, updated_velocities\n"
      ],
      "metadata": {
        "id": "w-yJshsUTz1Q"
      },
      "execution_count": 40,
      "outputs": []
    },
    {
      "cell_type": "markdown",
      "source": [
        "**Function 4.5 (PSO Loop)** <br>"
      ],
      "metadata": {
        "id": "TUk9RJrbUmbn"
      }
    },
    {
      "cell_type": "code",
      "source": [
        "import numpy as np\n",
        "\n",
        "def particle_swarm_optimization(tau, num_particles, n, k, interval_I, inertia_weight=0.5, social_weight=1.5, cognitive_weight=1.5):\n",
        "    \"\"\"\n",
        "    Particle Swarm Optimization algorithm.\n",
        "\n",
        "    Parameters:\n",
        "    - tau: Number of iterations.\n",
        "    - num_particles: Number of particles in the swarm.\n",
        "    - n: Number of rows.\n",
        "    - k: Number of columns.\n",
        "    - interval_I: Tuple representing the interval (start, end).\n",
        "    - inertia_weight: Inertia weight parameter.\n",
        "    - social_weight: Social weight parameter.\n",
        "    - cognitive_weight: Cognitive weight parameter.\n",
        "\n",
        "    Returns:\n",
        "    - optimal_points: List of best points found during the iterations.\n",
        "    - optimal_values: List of corresponding maximum values of G.\n",
        "    \"\"\"\n",
        "    # Initialization\n",
        "    positions, velocities = initialize_particles(num_particles, n, k, interval_I)\n",
        "    fitness_values = evaluate_fitness(positions, n)\n",
        "    personal_best = positions.copy()\n",
        "    personal_best_values = fitness_values.copy()\n",
        "    global_best_index = fitness_values.index(max(fitness_values))\n",
        "    global_best = positions[global_best_index]\n",
        "    global_best_value = max(fitness_values)\n",
        "\n",
        "    optimal_points = [global_best]\n",
        "    optimal_values = [fitness_values[global_best_index]]\n",
        "\n",
        "    N = 1  # Iteration counter\n",
        "\n",
        "    while N < tau:\n",
        "        # Update particle positions and velocities\n",
        "        positions, velocities = update_particles(positions, velocities, global_best, personal_best, inertia_weight, social_weight, cognitive_weight, interval_I)\n",
        "\n",
        "        # Evaluate fitness for the new positions\n",
        "        fitness_values = evaluate_fitness(positions, n)\n",
        "\n",
        "        personal_best_values = update_best_fitness(personal_best_values, fitness_values)\n",
        "        personal_best  = update_best_positions(positions, fitness_values, personal_best, personal_best_values, num_particles)\n",
        "        # Update global best\n",
        "        global_best, global_best_value = find_global_best_position(global_best, global_best_value, positions, fitness_values)\n",
        "\n",
        "        # Update optimal value\n",
        "        optimal_points.append(global_best)\n",
        "        optimal_values.append(global_best_value)\n",
        "\n",
        "        # Update iteration counter\n",
        "        N += 1\n",
        "\n",
        "    return optimal_points, optimal_values\n"
      ],
      "metadata": {
        "id": "369Pg4NpxCPx"
      },
      "execution_count": 41,
      "outputs": []
    },
    {
      "cell_type": "code",
      "source": [
        "# Example usage\n",
        "tau_pso = 10\n",
        "num_particles_pso = 20\n",
        "n_pso = 2\n",
        "k_pso = 2\n",
        "interval_I_pso = (0, 1)\n",
        "\n",
        "optimal_points_pso, optimal_values_pso = particle_swarm_optimization(tau_pso, num_particles_pso, n_pso, k_pso, interval_I_pso)\n",
        "\n",
        "# You can use optimal_points_pso and optimal_values_pso for plotting and analysis"
      ],
      "metadata": {
        "id": "rxQRbWfJVGXG"
      },
      "execution_count": 42,
      "outputs": []
    },
    {
      "cell_type": "code",
      "source": [
        "print(optimal_values_pso)"
      ],
      "metadata": {
        "colab": {
          "base_uri": "https://localhost:8080/"
        },
        "id": "9hO7HXhLgI5c",
        "outputId": "c14b9b0d-af42-4816-fc40-d10da5a6ee0a"
      },
      "execution_count": 43,
      "outputs": [
        {
          "output_type": "stream",
          "name": "stdout",
          "text": [
            "[0.6255675474770889, 0.673182990251882, 0.6862911497414881, 0.6862915009977761, 0.6862915009977912, 0.6862915009977912, 0.6862915009977943, 0.6862915009977943, 0.6862915009977943, 0.6862915009977943]\n"
          ]
        }
      ]
    },
    {
      "cell_type": "code",
      "source": [
        "print(optimal_points_pso)"
      ],
      "metadata": {
        "colab": {
          "base_uri": "https://localhost:8080/"
        },
        "id": "jcZoUgW1gzli",
        "outputId": "d0dad30e-54cf-4fe3-8364-8bb731d5ddeb"
      },
      "execution_count": 44,
      "outputs": [
        {
          "output_type": "stream",
          "name": "stdout",
          "text": [
            "[array([[0.75063559, 0.03367895],\n",
            "       [0.90713847, 0.43929237]]), array([[0.91897866, 0.00880149],\n",
            "       [1.        , 0.5726543 ]]), array([[1.        , 0.        ],\n",
            "       [1.        , 0.59789812]]), array([[1., 0.],\n",
            "       [1., 0.]]), array([[0.57155482, 0.        ],\n",
            "       [0.8633523 , 0.        ]]), array([[0.57155482, 0.        ],\n",
            "       [0.8633523 , 0.        ]]), array([[0.65468677, 0.        ],\n",
            "       [1.        , 0.        ]]), array([[0.65468677, 0.        ],\n",
            "       [1.        , 0.        ]]), array([[0.65468677, 0.        ],\n",
            "       [1.        , 0.        ]]), array([[0.65468677, 0.        ],\n",
            "       [1.        , 0.        ]])]\n"
          ]
        }
      ]
    },
    {
      "cell_type": "markdown",
      "source": [
        "**Function 10 (Optimal Value Graph)** <br>\n",
        "Function: Plot the optimal value achieved by the algorithm against the number of iterations"
      ],
      "metadata": {
        "id": "QsjV-_9TFb6O"
      }
    },
    {
      "cell_type": "code",
      "source": [
        "import matplotlib.pyplot as plt\n",
        "\n",
        "def plot_optimal_values(optimal_values, log_scale=False):\n",
        "    \"\"\"\n",
        "    Plot the graph of optimal values against the number of iterations.\n",
        "\n",
        "    Parameters:\n",
        "    - optimal_values: List of optimal values.\n",
        "    - log_scale: Boolean, whether to use a logarithmic scale for the x-axis.\n",
        "    \"\"\"\n",
        "    iterations = range(1, len(optimal_values) + 1)\n",
        "\n",
        "    plt.figure(figsize=(10, 6))\n",
        "    plt.plot(iterations, optimal_values, marker='o', linestyle='-', color='b')\n",
        "    plt.title('Optimal Value vs Number of Iterations')\n",
        "    plt.xlabel('Number of Iterations')\n",
        "    plt.ylabel('Optimal Value')\n",
        "\n",
        "    if log_scale:\n",
        "        plt.xscale('log')\n",
        "        plt.yscale('symlog')\n",
        "\n",
        "    plt.grid(True)\n",
        "    plt.show()\n",
        "\n",
        "# Example usage:\n",
        "plot_optimal_values(optimal_values_pso, log_scale=True)\n"
      ],
      "metadata": {
        "id": "zW08hRbDF3NV",
        "colab": {
          "base_uri": "https://localhost:8080/",
          "height": 569
        },
        "outputId": "ff42891f-e4a9-474e-a5d4-c5d6ab58c8b6"
      },
      "execution_count": 45,
      "outputs": [
        {
          "output_type": "display_data",
          "data": {
            "text/plain": [
              "<Figure size 1000x600 with 1 Axes>"
            ],
            "image/png": "[encoded data removed]"
          },
          "metadata": {}
        }
      ]
    },
    {
      "cell_type": "markdown",
      "source": [
        "**Function 11 (Visualize $U^n$)** <br>\n",
        "Code to visualize how the points travelled by the algorithm change over the course of the iterations."
      ],
      "metadata": {
        "id": "sDSwxRIWI-Cz"
      }
    },
    {
      "cell_type": "code",
      "source": [
        "import matplotlib.pyplot as plt\n",
        "from matplotlib.colors import Normalize\n",
        "from matplotlib.cm import ScalarMappable\n",
        "\n",
        "# Set up the layout of subplots\n",
        "num_rows = int(len(optimal_points_pso)/10)+ 1\n",
        "num_cols = 10\n",
        "u_points = optimal_points_pso\n",
        "\n",
        "# Create a figure and axis\n",
        "fig, axes = plt.subplots(num_rows, num_cols, figsize=(12, 12))\n",
        "\n",
        "# Flatten the axes array for easier indexing\n",
        "axes = axes.flatten()\n",
        "\n",
        "# Plot each 2x3 array in u_points up to the number of available subplots\n",
        "cmap = 'viridis'\n",
        "vmin, vmax = np.min(u_points), np.max(u_points)\n",
        "\n",
        "for i, array in enumerate(u_points[:len(axes)]):\n",
        "    ax = axes[i]\n",
        "    im = ax.imshow(array, cmap=cmap, interpolation='none', aspect='auto', vmin=vmin, vmax=vmax)\n",
        "    #ax.set_title(f\"Array {i+1}\")\n",
        "\n",
        "# Create a ScalarMappable\n",
        "norm = Normalize(vmin=vmin, vmax=vmax)\n",
        "sm = ScalarMappable(cmap=cmap, norm=norm)\n",
        "sm.set_array([])  # This line is necessary for the ScalarMappable to work\n",
        "\n",
        "# Create a colorbar\n",
        "cbar = plt.colorbar(sm, ax=axes, orientation='horizontal', fraction=0.02, pad=0.1)\n",
        "cbar.set_label('Scalar Values')\n",
        "\n",
        "# Adjust layout using subplots_adjust\n",
        "plt.subplots_adjust(bottom=0.2, right=0.8, top=0.9)\n",
        "\n",
        "# Show the plot\n",
        "plt.show()\n",
        "\n"
      ],
      "metadata": {
        "colab": {
          "base_uri": "https://localhost:8080/",
          "height": 1000
        },
        "id": "uGxCHG9DGcvS",
        "outputId": "43e51572-b01d-4ac9-a4a1-de3ba8140a26"
      },
      "execution_count": 46,
      "outputs": [
        {
          "output_type": "display_data",
          "data": {
            "text/plain": [
              "<Figure size 1200x1200 with 21 Axes>"
            ],
            "image/png": "[encoded data removed]"
          },
          "metadata": {}
        }
      ]
    }
  ]
}