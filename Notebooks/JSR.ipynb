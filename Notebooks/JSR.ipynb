{
  "nbformat": 4,
  "nbformat_minor": 0,
  "metadata": {
    "colab": {
      "provenance": []
    },
    "kernelspec": {
      "name": "python3",
      "display_name": "Python 3"
    },
    "language_info": {
      "name": "python"
    }
  },
  "cells": [
    {
      "cell_type": "markdown",
      "source": [
        "## Computing the Joint Spectral Radius <br>\n",
        "Date: 7th Jan 2023 <br>\n",
        "Reference: Stability Analysis of Switched Linear Systems with Neural\n",
        "Lyapunov Functions"
      ],
      "metadata": {
        "id": "YbuOoCjJXiW0"
      }
    },
    {
      "cell_type": "markdown",
      "source": [
        "We wish to compute the ellipsoidal approximation of the Joint Spectral Radius, defined as $\\rho_{Q}(\\Sigma) := \\inf_{P > 0}{\\max_{A \\in \\Sigma}{||A||_{P}}}$ <br>\n",
        "In the above, $||A||_{P}$ denotes the matrix norm induced by the ellipsoidal norm associated to $P$, i.e. $||x||_{P} := \\sqrt{x^TPx}$.   "
      ],
      "metadata": {
        "id": "dE_IBKorX1k8"
      }
    },
    {
      "cell_type": "markdown",
      "source": [
        "For computing the ENAJSR, we refer to: [Blondel et al. \"On the accuracy of the ellipsoid norm approximation of the joint spectral radius\"](https://perso.uclouvain.be/vincent.blondel/publications/04BNT2-jsr.pdf)"
      ],
      "metadata": {
        "id": "wrI2OScYYzto"
      }
    },
    {
      "cell_type": "markdown",
      "source": [
        "An important friend would be John's Ellipsoid Theorem, which we state here. <br>\n",
        "**John's Ellipsoid Theorem** : Let $K \\in \\mathbb{R}^n$ be a compact convex subset with nonempty interior. Then there is an ellipsoid $E$ with center $c$ such that the inclusions $E ⊆ K ⊆ n(E - c)$ hold. If $K$ is symmetric about the origin, i.e. $K = -K$, then constant $n$ can be changed to $\\sqrt{n}$."
      ],
      "metadata": {
        "id": "0htjIXN2dBEw"
      }
    },
    {
      "cell_type": "markdown",
      "source": [
        "Further, we also might need methods to generate Positive Definite Matrices. We list down all methods we know here <br>\n",
        "1. [Sklearn make_spd_matrix()](https://scikit-learn.org/stable/modules/generated/sklearn.datasets.make_spd_matrix.html) <br>\n",
        "2. [Stackoverflow thread on the topic](https://stackoverflow.com/questions/619335/a-simple-algorithm-for-generating-positive-semidefinite-matrices) <br>\n",
        "3. [Wishart Distributions](https://en.wikipedia.org/wiki/Wishart_distribution) (Not exactly sure of what these are, but they look interesting)."
      ],
      "metadata": {
        "id": "NsELTObwd7dq"
      }
    },
    {
      "cell_type": "markdown",
      "source": [
        "###Identifying Positive Definite Matrices <br>\n",
        "1. A matrix is positive definite if it's symmetric and all its eigenvalues are positive <br>\n",
        "2. A matrix is positive definite if it's symmetric and all its pivots are positive <br>\n",
        "3. A matrix is positive definite if $x^TAx > 0$ for all vectors $x \\neq 0$ <br>\n",
        "4. A matrix $A$ is positive definite iff it can be written as $A = R^TR$ for some possibly rectangular matrix $R$ with independent columns <br>\n"
      ],
      "metadata": {
        "id": "w1WpGGj000HA"
      }
    },
    {
      "cell_type": "markdown",
      "source": [
        "**Function 1 (Generate a positive definite matrix)** <br>\n",
        "Function: Generate a positive definite matrix. Then compute all the eigenvalues of the matrix and print them."
      ],
      "metadata": {
        "id": "7fKlvFvu0OiV"
      }
    },
    {
      "cell_type": "code",
      "execution_count": null,
      "metadata": {
        "id": "pZPe9pk2XgjB"
      },
      "outputs": [],
      "source": [
        "import numpy as np\n",
        "\n",
        "def generate_positive_definite_matrix_with_parametrization(params):\n",
        "    # Create a lower triangular matrix with the given parameters\n",
        "    lower_triangular = np.array([[params[0], 0, 0],\n",
        "                                 [params[1], params[2], 0],\n",
        "                                 [params[3], params[4], params[5]]])\n",
        "\n",
        "    # Construct the positive definite matrix using Cholesky decomposition\n",
        "    matrix = np.dot(lower_triangular, lower_triangular.T)\n",
        "\n",
        "    # Compute the eigenvalues of the matrix\n",
        "    eigenvalues = np.linalg.eigvals(matrix)\n",
        "\n",
        "    return matrix, eigenvalues\n"
      ]
    },
    {
      "cell_type": "code",
      "source": [
        "# Example usage with a 6-parameter vector\n",
        "parameters = np.array([-1, -2, -3, -4, -5, -6])\n",
        "matrix1, eigenvalues1 = generate_positive_definite_matrix_with_parametrization(parameters)\n",
        "print(\"Matrix: \", matrix1 )\n",
        "print(\"Eigenvalues: \", eigenvalues1)"
      ],
      "metadata": {
        "colab": {
          "base_uri": "https://localhost:8080/"
        },
        "id": "Y4XXJVWx3TFt",
        "outputId": "007c2163-0ecc-49e2-8371-247e712e7d8d"
      },
      "execution_count": null,
      "outputs": [
        {
          "output_type": "stream",
          "name": "stdout",
          "text": [
            "Matrix:  [[ 1  2  4]\n",
            " [ 2 13 23]\n",
            " [ 4 23 77]]\n",
            "Eigenvalues:  [84.64176666  0.67334625  5.68488709]\n"
          ]
        }
      ]
    },
    {
      "cell_type": "markdown",
      "source": [
        "**Function 2 (Cholesky Decomposition)** <br>\n",
        "Given a positive definite matrix, factorize it using the Cholesky decomposition. <br>"
      ],
      "metadata": {
        "id": "mRF6Y6i42XGu"
      }
    },
    {
      "cell_type": "code",
      "source": [
        "import numpy as np\n",
        "\n",
        "def cholesky_decomposition(matrix):\n",
        "    \"\"\"\n",
        "    Perform Cholesky decomposition on a positive definite matrix.\n",
        "\n",
        "    Parameters:\n",
        "    - matrix: Positive definite matrix to be factorized.\n",
        "\n",
        "    Returns:\n",
        "    - L: Lower triangular matrix such that matrix = LL^T.\n",
        "    \"\"\"\n",
        "    try:\n",
        "        # Perform Cholesky decomposition\n",
        "        L = np.linalg.cholesky(matrix)\n",
        "        return L\n",
        "    except np.linalg.LinAlgError:\n",
        "        # Handle the case where the input matrix is not positive definite\n",
        "        raise ValueError(\"Input matrix is not positive definite. Cholesky decomposition cannot be performed.\")\n",
        "\n",
        "# Example usage with a positive definite matrix\n"
      ],
      "metadata": {
        "id": "tYSs12Vk2aCj"
      },
      "execution_count": null,
      "outputs": []
    },
    {
      "cell_type": "code",
      "source": [
        "cholesky_factor = cholesky_decomposition(matrix1)\n",
        "print(\"\\nCholesky Factor (Lower Triangular Matrix):\")\n",
        "print(cholesky_factor)\n"
      ],
      "metadata": {
        "colab": {
          "base_uri": "https://localhost:8080/"
        },
        "id": "cOK2rqjH3YpN",
        "outputId": "86e2fb8a-7d52-4c84-aada-b5ba080f076c"
      },
      "execution_count": null,
      "outputs": [
        {
          "output_type": "stream",
          "name": "stdout",
          "text": [
            "\n",
            "Cholesky Factor (Lower Triangular Matrix):\n",
            "[[1. 0. 0.]\n",
            " [2. 3. 0.]\n",
            " [4. 5. 6.]]\n"
          ]
        }
      ]
    },
    {
      "cell_type": "markdown",
      "source": [
        "**Function 3 (Null Space)** <br>\n",
        "Computes the null space of a given matrix in time complexity $\\mathcal{O}(m,n,\\min{(m,n)})$"
      ],
      "metadata": {
        "id": "5ZzZIn465HCH"
      }
    },
    {
      "cell_type": "code",
      "source": [
        "import numpy as np\n",
        "\n",
        "def null_space(matrix):\n",
        "    _, _, V = np.linalg.svd(matrix)\n",
        "    null_space_basis = V.T[:, np.isclose(np.linalg.svd(matrix)[1], 0)]\n",
        "    return null_space_basis"
      ],
      "metadata": {
        "id": "UxqMEnhA5XYj"
      },
      "execution_count": null,
      "outputs": []
    },
    {
      "cell_type": "code",
      "source": [
        "# Example usage\n",
        "A = np.array([[1, 2, 3],\n",
        "              [4, 5, 6],\n",
        "              [7, 8, 9]])\n",
        "\n",
        "null_space_basis = null_space(A)\n",
        "print(\"Null Space Basis:\")\n",
        "print(null_space_basis)"
      ],
      "metadata": {
        "id": "BhTGsVhd5YTq",
        "outputId": "912693e7-74b8-4237-b450-5440fc3c199e",
        "colab": {
          "base_uri": "https://localhost:8080/"
        }
      },
      "execution_count": null,
      "outputs": [
        {
          "output_type": "stream",
          "name": "stdout",
          "text": [
            "Null Space Basis:\n",
            "[[-0.40824829]\n",
            " [ 0.81649658]\n",
            " [-0.40824829]]\n"
          ]
        }
      ]
    },
    {
      "cell_type": "code",
      "source": [
        "import numpy as np\n",
        "from scipy.linalg import fractional_matrix_power\n",
        "\n",
        "def joint_spectral_radius(matrix_set):\n",
        "    max_norms = []\n",
        "    for matrix in matrix_set:\n",
        "        max_norms.append(np.max(np.abs(np.linalg.eigvals(matrix))))\n",
        "\n",
        "    joint_radius = np.max(max_norms)\n",
        "    return joint_radius\n",
        "\n",
        "# Example usage with two matrices\n",
        "matrix1 = np.array([[0.8, 0.6], [-0.6, 0.8]])\n",
        "matrix2 = np.array([[0.5, -0.3], [0.3, 0.5]])\n",
        "\n",
        "matrix_set = [matrix1, matrix2]\n",
        "\n",
        "result = joint_spectral_radius(matrix_set)\n",
        "print(\"Joint Spectral Radius:\", result)\n"
      ],
      "metadata": {
        "id": "8ZJ5N-CyB6Pr"
      },
      "execution_count": null,
      "outputs": []
    }
  ]
}