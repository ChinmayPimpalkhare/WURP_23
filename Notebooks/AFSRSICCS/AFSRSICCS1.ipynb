{
  "nbformat": 4,
  "nbformat_minor": 0,
  "metadata": {
    "colab": {
      "provenance": []
    },
    "kernelspec": {
      "name": "python3",
      "display_name": "Python 3"
    },
    "language_info": {
      "name": "python"
    }
  },
  "cells": [
    {
      "cell_type": "markdown",
      "source": [
        "Simulation code for Algorithmic Feedback Synthesis for Robust Strong Invariance of Continous Control Systems"
      ],
      "metadata": {
        "id": "F-U_SwcJmds8"
      }
    },
    {
      "cell_type": "markdown",
      "source": [
        "We shall first try to simulate a simple example. For that, we shall give some realizations to all the variables in the problem. <br>\n",
        "1. Let us assume $v = 2$. Hence, we are dealing with $\\mathbb{R}^2$ space. <br>\n",
        "2. Let us define $\\mathbb{X}$ to be the unit circle $:= \\{(x_1, x_2) ~ | ~ x_1^2 + x_2^2 \\leq 0.5\\}$. <br>\n",
        "3. Consequently, $bd(\\mathbb{X}) = \\{(x_1, x_2) ~ | ~ x_1^2 + x_2^2 = 0.5\\}$ <br>\n",
        "4. At a given point $x \\in bd(\\mathbb{X})$, the Clarke normal cone will then just be the vector joining the origin to $x$. <br>\n",
        "5. Let us define the control system as follows: $\\dot{x} = Fx + Gu$, where the noise is assumed to be 0. $\\dot{x}, x$ are vectors of dimension 2. $F$ is a $2 \\times 2$ square matrix. $u$ has dimension $m = 3$ and hence $G$ is a $2 \\times 3$ matrix. <br>\n",
        "6. We shall define $F$ and $G$ at a later position in the code. <br>\n",
        "7. The equations, when looked at component wise then become $\\dot{x_1} = x_1 + 0.5u_1 + u_2$ and $\\dot{x_2} = 0.5u_1 + u_3$. <br>\n",
        "8. Thus $x_2$ is completely controlled by $u$. Also $x_1$ and $x_2$ are in some sense independent.   <br>\n",
        "9. We also need to define the admissible set $\\mathbb{U}$ . Let us choose the unit sphere, so that the 0-sublevel set is given by $\\Phi(z) = z_1^2 + z_2^2 + z_3^2 - 1 \\leq 0$. <br>\n",
        "10. We also need our open set $O$, so we define it as the region $\\{(x_1, x_2) ~ | ~ x_1^2 + x_2^2 \\leq 1\\}$. Note that $\\mathbb{X} \\subset O$. <br>  \n",
        "11. We define a dictionary $\\mathfrak{D}$ of continuous functions. The important thing to note is that the functions $\\psi$ map from $O ⟶ \\mathbb{R}^m$ and hence we need to define them appropriately. <br>\n",
        "12. We shall first define two dictionaries whose union is $\\mathfrak{D}$. The first is $\\mathfrak{D}_P$, the dictionary of polynomials (multinomials in this case). The second is $\\mathfrak{D}_S$, the dictionary of sinusoids. Thus, we have $\\mathfrak{D} = \\mathfrak{D}_P \\cup \\mathfrak{D}_S$ and also $|\\mathfrak{D}| = |\\mathfrak{D}_P| + |\\mathfrak{D}_S|$ <br>\n",
        "13. Since $m = 3$, we have $d = 9 \\times |\\mathfrak{D}|$, and this is the dimension of $\\omega$, as per the usual notation from DACC'22. <br>\n",
        "<br>\n",
        "After this, we start by writing small functions which aim at solving each of the minor parts of the problem.\n",
        "\n"
      ],
      "metadata": {
        "id": "regCCURHL54_"
      }
    },
    {
      "cell_type": "markdown",
      "source": [
        "**Function 1 (Sampling $l$)** <br>\n",
        "Function: Due to the distinct geometry of our problem, the normal cone at $x$,  when intersected with the norm ball $\\mathbb{B}[0,1]$, shall give just a single point. We leave the general case of computing and sampling $l$ to later iterations and provide code just for this very specific case."
      ],
      "metadata": {
        "id": "-1Mc3X40iX9S"
      }
    },
    {
      "cell_type": "code",
      "execution_count": null,
      "metadata": {
        "id": "HuHCSWqkKxWp"
      },
      "outputs": [],
      "source": [
        "import numpy as np\n",
        "import matplotlib.pyplot as plt\n",
        "\n",
        "def find_intersection_point(theta):\n",
        "    # Step 1: Parametrize the unit circle\n",
        "    x_circle = np.cos(theta)\n",
        "    y_circle = np.sin(theta)\n",
        "\n",
        "    # Step 2: Calculate the coordinates of the point on the unit circle\n",
        "    point_on_circle = np.array([x_circle, y_circle])\n",
        "\n",
        "    # Step 3: Find the normal vector\n",
        "    normal_vector = np.array([-y_circle, x_circle])\n",
        "\n",
        "    # Step 4: Parametric equation of the line formed by the normal vector\n",
        "    def line_equation(t):\n",
        "        return point_on_circle + t * normal_vector\n",
        "\n",
        "    # Step 5: Substitute into the equation of the unit circle to find the intersection point\n",
        "    def circle_equation(t):\n",
        "        return np.dot(line_equation(t), line_equation(t)) - 1\n",
        "\n",
        "    # Use a numerical solver to find the intersection point\n",
        "    t_intersection = np.roots([1, 0, 1])  # Solve the quadratic equation\n",
        "\n",
        "    # Calculate the intersection point\n",
        "    intersection_point = line_equation(t_intersection[1])\n",
        "\n",
        "    return intersection_point"
      ]
    },
    {
      "cell_type": "code",
      "source": [
        "# Example usage:\n",
        "theta = np.pi / 4  # You can choose any angle\n",
        "intersection_point = find_intersection_point(theta)\n",
        "\n",
        "print(\"Intersection point:\", intersection_point)\n",
        "\n",
        "# Plotting for visualization\n",
        "theta_values = np.linspace(0, 2 * np.pi, 100)\n",
        "circle_x = np.cos(theta_values)\n",
        "circle_y = np.sin(theta_values)\n",
        "\n",
        "plt.plot(circle_x, circle_y, label='Unit Circle')\n",
        "plt.scatter(*intersection_point, color='red', label='Intersection Point')\n",
        "plt.title('Intersection of Normal Vector with Unit Circle')\n",
        "plt.xlabel('x')\n",
        "plt.ylabel('y')\n",
        "plt.legend()\n",
        "plt.grid(True)\n",
        "plt.axis('equal')\n",
        "plt.show()"
      ],
      "metadata": {
        "colab": {
          "base_uri": "https://localhost:8080/",
          "height": 490
        },
        "id": "Z6anRWy6jxxe",
        "outputId": "fd6a3364-0423-4648-d747-33c39f1026de"
      },
      "execution_count": null,
      "outputs": [
        {
          "output_type": "stream",
          "name": "stdout",
          "text": [
            "Intersection point: [0.70710678+0.70710678j 0.70710678-0.70710678j]\n"
          ]
        },
        {
          "output_type": "display_data",
          "data": {
            "text/plain": [
              "<Figure size 640x480 with 1 Axes>"
            ],
            "image/png": "[encoded data removed]"
          },
          "metadata": {}
        }
      ]
    },
    {
      "cell_type": "markdown",
      "source": [
        "**Function 2 (Create Dictionary of Multinomials)** <br>\n",
        "Function: I have been given the dimension, which is in this case $v = 2$, so that I am working in $\\mathbb{R}^2$. Now I want to create a dictionary of basis functions with domain as given above which are multinomial functions up to order $k$. These a vector-valued functions, so I input a vector in $R^v$ and the output is a vector in $\\mathbb{R}^m$. Note that this is a dictionary of functions and hence, if I input the value of $x \\in \\mathbb{R}^v$, I should be able to obtain the value of the functions at $x$. <br>\n",
        "Input: I supply the values of $v$ (input dimension), $m$ (output dimension), $k$ (maximum degree) and $x$ and it should do the rest <br>  \n",
        "Output: A dictionary of vector-valued basis functions. The number of basis functions will depend on $m$ and $v$ and can be calculated as $N = m \\times (k + 1)^v$"
      ],
      "metadata": {
        "id": "kcc84j6Pj5p8"
      }
    },
    {
      "cell_type": "markdown",
      "source": [
        "Example: If I supply $v = 2$, $m = 3$, $k = 2$ and $\\begin{pmatrix} x_1 \\\\ x_2 \\end{pmatrix} = \\begin{pmatrix} 1 \\\\ 2 \\end{pmatrix}$, the output should be the set $\\{\\begin{pmatrix} 1 \\\\ 0 \\\\ 0 \\end{pmatrix}, \\begin{pmatrix} x_1 \\\\ 0 \\\\ 0 \\end{pmatrix}, \\begin{pmatrix} x_2 \\\\ 0 \\\\ 0 \\end{pmatrix},\\begin{pmatrix} x_1^2 \\\\ 0 \\\\ 0 \\end{pmatrix},\\begin{pmatrix} x_2^2 \\\\ 0 \\\\ 0 \\end{pmatrix}, \\begin{pmatrix} x_1x_2 \\\\ 0 \\\\ 0 \\end{pmatrix}, \\begin{pmatrix} x_1^2x_2 \\\\ 0 \\\\ 0 \\end{pmatrix}, \\begin{pmatrix} x_1x_2^2 \\\\ 0 \\\\ 0 \\end{pmatrix}, \\begin{pmatrix} x_1^2x_2^2 \\\\ 0 \\\\ 0 \\end{pmatrix}, \\begin{pmatrix} 0 \\\\ x_1 \\\\ 0 \\end{pmatrix}, \\begin{pmatrix} 0 \\\\ x_2 \\\\ 0 \\end{pmatrix}, \\begin{pmatrix} 0 \\\\ x_1^2 \\\\ 0 \\end{pmatrix}, \\begin{pmatrix} 0 \\\\ x_2^2 \\\\ 0 \\end{pmatrix}, \\begin{pmatrix} 0 \\\\ x_1x_2 \\\\ 0 \\end{pmatrix}, \\begin{pmatrix} 0 \\\\ x_1^2x_2 \\\\ 0 \\end{pmatrix}, \\begin{pmatrix} 0 \\\\ x_1x_2^2 \\\\ 0 \\end{pmatrix}, \\begin{pmatrix} 0 \\\\ x_1^2x_2^2 \\\\ 0 \\end{pmatrix}\n",
        ", \\begin{pmatrix} 0 \\\\ 0 \\\\ x_1 \\end{pmatrix}, \\begin{pmatrix} 0 \\\\ 0 \\\\ x_2 \\end{pmatrix}, \\begin{pmatrix} 0 \\\\ 0 \\\\ x_1^2 \\end{pmatrix}, \\begin{pmatrix} 0 \\\\ 0 \\\\ x_2^2 \\end{pmatrix}, \\begin{pmatrix} 0 \\\\ 0 \\\\ x_1x_2 \\end{pmatrix}, \\begin{pmatrix} 0 \\\\ 0 \\\\ x_1^2x_2 \\end{pmatrix}, \\begin{pmatrix} 0 \\\\ 0 \\\\ x_1x_2^2 \\end{pmatrix}, \\begin{pmatrix} 0 \\\\ 0 \\\\ x_1^2x_2^2 \\end{pmatrix}\n",
        "\\}$. <br>\n",
        "This evaluates to the set  $\\{\\begin{pmatrix} 1 \\\\ 0 \\\\ 0 \\end{pmatrix},\n",
        "\\begin{pmatrix} 1 \\\\ 0 \\\\ 0 \\end{pmatrix},\n",
        "\\begin{pmatrix} 2 \\\\ 0 \\\\ 0 \\end{pmatrix},\n",
        "\\begin{pmatrix} 1 \\\\ 0 \\\\ 0 \\end{pmatrix},\n",
        "\\begin{pmatrix} 4 \\\\ 0 \\\\ 0 \\end{pmatrix},\n",
        "\\begin{pmatrix} 2 \\\\ 0 \\\\ 0 \\end{pmatrix},\n",
        "\\begin{pmatrix} 1 \\\\ 0 \\\\ 0 \\end{pmatrix},\n",
        "\\begin{pmatrix} 4 \\\\ 0 \\\\ 0 \\end{pmatrix},\n",
        "\\begin{pmatrix} 8 \\\\ 0 \\\\ 0 \\end{pmatrix},\n",
        "\\begin{pmatrix} 0 \\\\ 1 \\\\ 0 \\end{pmatrix},\n",
        "\\begin{pmatrix} 0 \\\\ 1 \\\\ 0 \\end{pmatrix},\n",
        "\\begin{pmatrix} 0 \\\\ 2 \\\\ 0 \\end{pmatrix},\n",
        "\\begin{pmatrix} 0 \\\\ 1 \\\\ 0 \\end{pmatrix},\n",
        "\\begin{pmatrix} 0 \\\\ 4 \\\\ 0 \\end{pmatrix},\n",
        "\\begin{pmatrix} 0 \\\\ 2 \\\\ 0 \\end{pmatrix},\n",
        "\\begin{pmatrix} 0 \\\\ 1 \\\\ 0 \\end{pmatrix},\n",
        "\\begin{pmatrix} 0 \\\\ 4 \\\\ 0 \\end{pmatrix},\n",
        "\\begin{pmatrix} 0 \\\\ 8 \\\\ 0 \\end{pmatrix},\n",
        "\\begin{pmatrix} 0 \\\\ 0 \\\\ 1 \\end{pmatrix},\n",
        "\\begin{pmatrix} 0 \\\\ 0 \\\\ 1 \\end{pmatrix},\n",
        "\\begin{pmatrix} 0 \\\\ 0 \\\\ 2 \\end{pmatrix},\n",
        "\\begin{pmatrix} 0 \\\\ 0 \\\\ 1 \\end{pmatrix},\n",
        "\\begin{pmatrix} 0 \\\\ 0 \\\\ 4 \\end{pmatrix},\n",
        "\\begin{pmatrix} 0 \\\\ 0 \\\\ 2 \\end{pmatrix},\n",
        "\\begin{pmatrix} 0 \\\\ 0 \\\\ 1 \\end{pmatrix},\n",
        "\\begin{pmatrix} 0 \\\\ 0 \\\\ 4 \\end{pmatrix},\n",
        "\\begin{pmatrix} 0 \\\\ 0 \\\\ 8 \\end{pmatrix}\n",
        "\\}$"
      ],
      "metadata": {
        "id": "UXXocP9Au85J"
      }
    },
    {
      "cell_type": "code",
      "source": [
        "from sympy import symbols, lambdify\n",
        "import numpy as np\n",
        "from itertools import product\n",
        "\n",
        "def evaluate_polynomials(degree, values, m):\n",
        "    # Create symbolic variables x1, x2, ..., xv\n",
        "    variables = symbols('x:{}'.format(len(values)))\n",
        "\n",
        "    # Generate all combinations of exponents up to the given degree\n",
        "    exponents = product(range(degree + 1), repeat=len(values))\n",
        "\n",
        "    # Create and evaluate polynomials\n",
        "    evaluated_polynomials = {}\n",
        "    for exp in exponents:\n",
        "        for i in range(1, m + 1):\n",
        "            vector_name = f'Vector {exp + (i,)}'  # Include i in the vector name\n",
        "            # Create the polynomial expression\n",
        "            polynomial_expr = 1  # Initialize with 1 for multiplication\n",
        "            for var, e in zip(variables, exp):\n",
        "                polynomial_expr *= var**e\n",
        "\n",
        "            # Evaluate the polynomial for the given values\n",
        "            numerical_value = lambdify(variables, polynomial_expr, 'numpy')(*values)\n",
        "\n",
        "            # Store the result in the dictionary\n",
        "            evaluated_polynomials[vector_name] = numerical_value\n",
        "\n",
        "    return evaluated_polynomials"
      ],
      "metadata": {
        "id": "R40Ch9stmDsj"
      },
      "execution_count": null,
      "outputs": []
    },
    {
      "cell_type": "code",
      "source": [
        "# Example usage with 3-dimensional values\n",
        "degree = 2\n",
        "values = [symbols(f'x{i}') for i in range(1, 3)]  # 3-dimensional\n",
        "m = 2\n",
        "result = evaluate_polynomials(degree, values, m)\n",
        "\n",
        "# Print the results\n",
        "for vector_name, numerical_value in result.items():\n",
        "    print(f'{vector_name}: {numerical_value}')"
      ],
      "metadata": {
        "colab": {
          "base_uri": "https://localhost:8080/"
        },
        "id": "5h7jhKJMx_c-",
        "outputId": "aaf1d87d-b49d-447c-abb7-a28de4770aa1"
      },
      "execution_count": null,
      "outputs": [
        {
          "output_type": "stream",
          "name": "stdout",
          "text": [
            "Vector (0, 0, 1): 1\n",
            "Vector (0, 0, 2): 1\n",
            "Vector (0, 1, 1): x2\n",
            "Vector (0, 1, 2): x2\n",
            "Vector (0, 2, 1): x2**2\n",
            "Vector (0, 2, 2): x2**2\n",
            "Vector (1, 0, 1): x1\n",
            "Vector (1, 0, 2): x1\n",
            "Vector (1, 1, 1): x1*x2\n",
            "Vector (1, 1, 2): x1*x2\n",
            "Vector (1, 2, 1): x1*x2**2\n",
            "Vector (1, 2, 2): x1*x2**2\n",
            "Vector (2, 0, 1): x1**2\n",
            "Vector (2, 0, 2): x1**2\n",
            "Vector (2, 1, 1): x1**2*x2\n",
            "Vector (2, 1, 2): x1**2*x2\n",
            "Vector (2, 2, 1): x1**2*x2**2\n",
            "Vector (2, 2, 2): x1**2*x2**2\n"
          ]
        }
      ]
    },
    {
      "cell_type": "code",
      "source": [
        "import re\n",
        "\n",
        "def extract_inside_parentheses(input_string):\n",
        "    # Define a regular expression pattern to match content inside parentheses\n",
        "    pattern = r'\\((.*?)\\)'\n",
        "\n",
        "    # Use re.findall to find all matches\n",
        "    matches = re.findall(pattern, input_string)\n",
        "\n",
        "    # Return the matches (content inside parentheses)\n",
        "    return matches\n",
        "\n",
        "# Example usage\n",
        "input_string = \"This is a (sample) string with sets of parentheses.\"\n",
        "result = extract_inside_parentheses(input_string)\n",
        "\n",
        "# Print the result\n",
        "print(type(result[0]))\n",
        "\n",
        "\n"
      ],
      "metadata": {
        "colab": {
          "base_uri": "https://localhost:8080/"
        },
        "id": "lgwIzBntvaBy",
        "outputId": "8476a205-db7c-4f1d-8d07-d60fe60e2b8a"
      },
      "execution_count": null,
      "outputs": [
        {
          "output_type": "stream",
          "name": "stdout",
          "text": [
            "<class 'str'>\n"
          ]
        }
      ]
    },
    {
      "cell_type": "code",
      "source": [
        "def create_vector_dict(evaluated_polynomials, m):\n",
        "    vector_dict = {}\n",
        "    for key, value in evaluated_polynomials.items():\n",
        "        # Extract exponents from the key\n",
        "        location = int(extract_inside_parentheses(key)[0].split(',')[-1]) - 1\n",
        "        vector = np.zeros(m)\n",
        "        vector[location] = value  # Set the i-th element of the vector\n",
        "        vector_dict[key] = vector\n",
        "\n",
        "    return vector_dict"
      ],
      "metadata": {
        "id": "LrStWuhxyjis"
      },
      "execution_count": null,
      "outputs": []
    },
    {
      "cell_type": "code",
      "source": [
        "# Example usage with 3-dimensional values and m=3\n",
        "degree = 2\n",
        "values = [1,1,1]  # 3-dimensional\n",
        "m = 2\n",
        "evaluated_polynomials = evaluate_polynomials(degree, values, m)\n",
        "vector_dict = create_vector_dict(evaluated_polynomials, m)\n",
        "\n",
        "# Print the resulting dictionary of vectors\n",
        "for key, vector in vector_dict.items():\n",
        "    print(f'{key}: {vector}')"
      ],
      "metadata": {
        "colab": {
          "base_uri": "https://localhost:8080/"
        },
        "id": "z2mxjnrqvdCW",
        "outputId": "64ba8bd7-08b3-4f15-d49b-212c24f937a0"
      },
      "execution_count": null,
      "outputs": [
        {
          "output_type": "stream",
          "name": "stdout",
          "text": [
            "Vector (0, 0, 0, 1): [1. 0.]\n",
            "Vector (0, 0, 0, 2): [0. 1.]\n",
            "Vector (0, 0, 1, 1): [1. 0.]\n",
            "Vector (0, 0, 1, 2): [0. 1.]\n",
            "Vector (0, 0, 2, 1): [1. 0.]\n",
            "Vector (0, 0, 2, 2): [0. 1.]\n",
            "Vector (0, 1, 0, 1): [1. 0.]\n",
            "Vector (0, 1, 0, 2): [0. 1.]\n",
            "Vector (0, 1, 1, 1): [1. 0.]\n",
            "Vector (0, 1, 1, 2): [0. 1.]\n",
            "Vector (0, 1, 2, 1): [1. 0.]\n",
            "Vector (0, 1, 2, 2): [0. 1.]\n",
            "Vector (0, 2, 0, 1): [1. 0.]\n",
            "Vector (0, 2, 0, 2): [0. 1.]\n",
            "Vector (0, 2, 1, 1): [1. 0.]\n",
            "Vector (0, 2, 1, 2): [0. 1.]\n",
            "Vector (0, 2, 2, 1): [1. 0.]\n",
            "Vector (0, 2, 2, 2): [0. 1.]\n",
            "Vector (1, 0, 0, 1): [1. 0.]\n",
            "Vector (1, 0, 0, 2): [0. 1.]\n",
            "Vector (1, 0, 1, 1): [1. 0.]\n",
            "Vector (1, 0, 1, 2): [0. 1.]\n",
            "Vector (1, 0, 2, 1): [1. 0.]\n",
            "Vector (1, 0, 2, 2): [0. 1.]\n",
            "Vector (1, 1, 0, 1): [1. 0.]\n",
            "Vector (1, 1, 0, 2): [0. 1.]\n",
            "Vector (1, 1, 1, 1): [1. 0.]\n",
            "Vector (1, 1, 1, 2): [0. 1.]\n",
            "Vector (1, 1, 2, 1): [1. 0.]\n",
            "Vector (1, 1, 2, 2): [0. 1.]\n",
            "Vector (1, 2, 0, 1): [1. 0.]\n",
            "Vector (1, 2, 0, 2): [0. 1.]\n",
            "Vector (1, 2, 1, 1): [1. 0.]\n",
            "Vector (1, 2, 1, 2): [0. 1.]\n",
            "Vector (1, 2, 2, 1): [1. 0.]\n",
            "Vector (1, 2, 2, 2): [0. 1.]\n",
            "Vector (2, 0, 0, 1): [1. 0.]\n",
            "Vector (2, 0, 0, 2): [0. 1.]\n",
            "Vector (2, 0, 1, 1): [1. 0.]\n",
            "Vector (2, 0, 1, 2): [0. 1.]\n",
            "Vector (2, 0, 2, 1): [1. 0.]\n",
            "Vector (2, 0, 2, 2): [0. 1.]\n",
            "Vector (2, 1, 0, 1): [1. 0.]\n",
            "Vector (2, 1, 0, 2): [0. 1.]\n",
            "Vector (2, 1, 1, 1): [1. 0.]\n",
            "Vector (2, 1, 1, 2): [0. 1.]\n",
            "Vector (2, 1, 2, 1): [1. 0.]\n",
            "Vector (2, 1, 2, 2): [0. 1.]\n",
            "Vector (2, 2, 0, 1): [1. 0.]\n",
            "Vector (2, 2, 0, 2): [0. 1.]\n",
            "Vector (2, 2, 1, 1): [1. 0.]\n",
            "Vector (2, 2, 1, 2): [0. 1.]\n",
            "Vector (2, 2, 2, 1): [1. 0.]\n",
            "Vector (2, 2, 2, 2): [0. 1.]\n"
          ]
        }
      ]
    },
    {
      "cell_type": "markdown",
      "source": [
        "**Function 3 (Setting up $\\eta_\\psi$)** <br>\n",
        "$\\eta_\\psi$ are the coefficients of the $\\psi$ in the final expansion of $k(x)$, which will give us the final feedback. We need to compute the Frobenius norm of each of the $\\eta_\\psi$ so it will be good if we define these as arrays and then compute their norms. Let $\\Psi$ be the set of matrices $\\eta_\\psi$. We note that $|\\Psi| = |\\mathfrak{D}|$. The dimensions of $\\eta_\\psi$ are $m \\times m$ and thus they are all square matrices. <br>\n",
        "It would also be great if we could somehow link these matrices with the dictionary of basis functions, so that calling them would be much more easier.    "
      ],
      "metadata": {
        "id": "bjz73HMD8Mv-"
      }
    },
    {
      "cell_type": "code",
      "source": [
        "import numpy as np\n",
        "\n",
        "def generate_scalars(input_dict, rule='random'):\n",
        "    result_dict = {}\n",
        "    scalar_value = 1\n",
        "\n",
        "    for key, value in input_dict.items():\n",
        "        if rule == 'random':\n",
        "            scalar = np.random.random() * scalar_value\n",
        "        # Add more rules as needed\n",
        "        # For example, a rule to assign a specific scalar value:\n",
        "        # elif rule == 'constant':\n",
        "        #     scalar = scalar_value\n",
        "        elif rule == 'identity':\n",
        "            scalar = scalar_value\n",
        "        else:\n",
        "            raise ValueError(f\"Unsupported rule: {rule}\")\n",
        "\n",
        "        result_dict[key] = scalar\n",
        "\n",
        "    return result_dict\n",
        "\n",
        "scalar_value = 1.0  # You can adjust this value as needed\n",
        "eta_psi_scalar = generate_scalars(vector_dict, 'random')\n",
        "# print(result)\n"
      ],
      "metadata": {
        "id": "7LCocPt27eqF"
      },
      "execution_count": null,
      "outputs": []
    },
    {
      "cell_type": "markdown",
      "source": [
        "**Function 4 (Compute Objective Function)** <br>\n",
        "The objective function is the sum of the Frobenius norms of all the matrices in the matrix coefficient dictionary.  "
      ],
      "metadata": {
        "id": "ViD6kYgy8rQJ"
      }
    },
    {
      "cell_type": "code",
      "source": [
        "import numpy as np\n",
        "\n",
        "def compute_objective_function(scalar_dict):\n",
        "    sum_of_squares = 0.0\n",
        "\n",
        "    for scalar_key, scalar in scalar_dict.items():\n",
        "        sum_of_squares += scalar ** 2  # Calculate square and add to the sum\n",
        "\n",
        "    return sum_of_squares\n",
        "\n",
        "objective_value = compute_objective_function(eta_psi_scalar)\n",
        "print(f\"Objective Function Value: {objective_value}\")\n",
        "\n"
      ],
      "metadata": {
        "colab": {
          "base_uri": "https://localhost:8080/"
        },
        "id": "blRwDHgF8rCQ",
        "outputId": "2a8eb231-9097-4756-c366-ebd67683eab6"
      },
      "execution_count": null,
      "outputs": [
        {
          "output_type": "stream",
          "name": "stdout",
          "text": [
            "Objective Function Value: 17.622733310504486\n"
          ]
        }
      ]
    },
    {
      "cell_type": "markdown",
      "source": [
        "**Function 5 (Compute Feedback Function)** <br>\n",
        "We want to now compute the $k(x) = \\sum_{\\psi \\in \\mathfrak{D}}\\eta_\\psi \\psi(x)$."
      ],
      "metadata": {
        "id": "fqGy74atLyw7"
      }
    },
    {
      "cell_type": "code",
      "source": [
        "def compute_feedback(vector_dict, coeff_dict):\n",
        "    \"\"\"\n",
        "    Compute the sum of matrix-vector products across keys in two dictionaries.\n",
        "\n",
        "    Parameters:\n",
        "    - dict1: Dictionary with keys and numpy arrays (vectors) as values.\n",
        "    - dict2: Dictionary with keys and numpy arrays (matrices) as values.\n",
        "\n",
        "    Returns:\n",
        "    - The sum of matrix-vector products.\n",
        "    \"\"\"\n",
        "    result = sum(coeff_dict[key]*vector_dict[key] for key in vector_dict)\n",
        "    return result"
      ],
      "metadata": {
        "id": "MmLXiuH9OD3G"
      },
      "execution_count": null,
      "outputs": []
    },
    {
      "cell_type": "code",
      "source": [
        "feedback = compute_feedback(eta_psi_scalar, vector_dict, )\n",
        "print(feedback)"
      ],
      "metadata": {
        "colab": {
          "base_uri": "https://localhost:8080/"
        },
        "id": "kNSh3iQdOdoG",
        "outputId": "0b69cc6e-2bc8-48ad-9059-46db39dff30e"
      },
      "execution_count": null,
      "outputs": [
        {
          "output_type": "stream",
          "name": "stdout",
          "text": [
            "[12.27607797 14.45121941]\n"
          ]
        }
      ]
    },
    {
      "cell_type": "markdown",
      "source": [
        "**Function 6 (Computation of $G(\\boldsymbol{y}, \\boldsymbol{l}, \\boldsymbol{w}))$** <br>\n",
        "Here we use the shorthand notation  $G(\\boldsymbol{y}, \\boldsymbol{l}, \\boldsymbol{w})$ when we mean $G((y_i, l_i, w_i)_{i = 1}^d)$ <br>\n",
        "For our current application, we shall be assuming that $w_i = 0 ~ ∀ ~ i $, so that the setting we have is non noisy. <br>\n",
        "We also need to convert the current data we have into a format which is better to use. <br>\n"
      ],
      "metadata": {
        "id": "5MVNDl-xGXue"
      }
    },
    {
      "cell_type": "markdown",
      "source": [
        "1. $y_i$ are to be sampled from the set $bd(\\mathbb{X})$. <br>\n",
        "2. $l$ is deterministic in this case. <br>\n",
        "3. $w$ is the noise vector, which we shall consider to be identically 0 in this case <br>"
      ],
      "metadata": {
        "id": "qdZE0MZ7N779"
      }
    },
    {
      "cell_type": "markdown",
      "source": [
        "**Function 6.1 (Sampling $x$)** <br>\n"
      ],
      "metadata": {
        "id": "i4eqCJJKOjlZ"
      }
    },
    {
      "cell_type": "code",
      "source": [
        "import numpy as np\n",
        "\n",
        "def sample_point():\n",
        "    # Generate a random angle in radians\n",
        "    theta = 2 * np.pi * np.random.rand()\n",
        "\n",
        "    # Generate a random radius value (assuming radius is the square root of 0.5)\n",
        "    r = np.sqrt(0.5) * np.sqrt(np.random.rand())\n",
        "\n",
        "    # Convert polar coordinates to Cartesian coordinates\n",
        "    x = r * np.cos(theta)\n",
        "    y = r * np.sin(theta)\n",
        "\n",
        "    # Return the point as a numpy array\n",
        "    return np.array([x, y])\n",
        "\n",
        "# Sample a single point\n",
        "point = sample_point()\n",
        "\n",
        "# Example output\n",
        "print(point)\n"
      ],
      "metadata": {
        "colab": {
          "base_uri": "https://localhost:8080/"
        },
        "id": "LW-bNadlPCkN",
        "outputId": "7cc12cf3-81a7-4dc0-b9b1-2d3010415bca"
      },
      "execution_count": null,
      "outputs": [
        {
          "output_type": "stream",
          "name": "stdout",
          "text": [
            "[ 0.04212359 -0.29583418]\n"
          ]
        }
      ]
    },
    {
      "cell_type": "markdown",
      "source": [
        "**Function 6.2 (Determining $l$)** <br>\n"
      ],
      "metadata": {
        "id": "5boSNT79PQAC"
      }
    },
    {
      "cell_type": "code",
      "source": [
        "import numpy as np\n",
        "\n",
        "def multiply_array_by_scalar(input_array, scalar):\n",
        "    # Use numpy to perform element-wise multiplication\n",
        "    result_array = np.array(input_array) * scalar\n",
        "    return result_array\n",
        "\n",
        "\n",
        "scalar = np.sqrt(2)\n",
        "result = multiply_array_by_scalar(point, scalar)\n",
        "\n",
        "# Print the result\n",
        "print(result)\n"
      ],
      "metadata": {
        "colab": {
          "base_uri": "https://localhost:8080/"
        },
        "id": "rpPBZ2Z1PZsO",
        "outputId": "f306b2b2-3d83-4b44-f0a2-d30b1c963534"
      },
      "execution_count": null,
      "outputs": [
        {
          "output_type": "stream",
          "name": "stdout",
          "text": [
            "[ 0.05957175 -0.41837271]\n"
          ]
        }
      ]
    },
    {
      "cell_type": "markdown",
      "source": [
        "**Function 6.3 (Define System $F, G$)** <br>\n",
        "Define $F = \\begin{bmatrix} 1 & 0 \\\\ 0 & 1 \\end{bmatrix}$ and $G = \\begin{bmatrix} 0.5 & 1 & 0 \\\\ 0.5 & 0 & 1\\end{bmatrix}$ <br>"
      ],
      "metadata": {
        "id": "y8zDlVSCSm00"
      }
    },
    {
      "cell_type": "code",
      "source": [
        "F = np.array([[1, 0], [0 , 1]])\n",
        "G = np.array()"
      ],
      "metadata": {
        "colab": {
          "base_uri": "https://localhost:8080/"
        },
        "id": "dnAILEBVStkM",
        "outputId": "60dda539-1e7a-4fdd-db03-cc7062c7535a"
      },
      "execution_count": null,
      "outputs": [
        {
          "output_type": "stream",
          "name": "stdout",
          "text": [
            "[[1 0]\n",
            " [0 1]]\n"
          ]
        }
      ]
    }
  ]
}