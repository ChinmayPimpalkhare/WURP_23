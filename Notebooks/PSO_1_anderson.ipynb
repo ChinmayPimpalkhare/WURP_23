{
  "nbformat": 4,
  "nbformat_minor": 0,
  "metadata": {
    "colab": {
      "provenance": []
    },
    "kernelspec": {
      "name": "python3",
      "display_name": "Python 3"
    },
    "language_info": {
      "name": "python"
    }
  },
  "cells": [
    {
      "cell_type": "markdown",
      "source": [
        "Date: 2nd January 2024"
      ],
      "metadata": {
        "id": "_AnRSgtbTyiF"
      }
    },
    {
      "cell_type": "markdown",
      "source": [
        "### Particle Swarm Optimization <br>\n",
        "In this notebook, we attempt to implement the Particle Swarm Optimization (PSO) algorithm to solve the anderson SIP."
      ],
      "metadata": {
        "id": "q99MVccPl1cm"
      }
    },
    {
      "cell_type": "code",
      "source": [
        "!pip install pulp"
      ],
      "metadata": {
        "id": "zjGcE-dqdfc_",
        "colab": {
          "base_uri": "https://localhost:8080/"
        },
        "outputId": "1a4c4786-9c2a-4dc5-c12c-ba522be84f72"
      },
      "execution_count": 13,
      "outputs": [
        {
          "output_type": "stream",
          "name": "stdout",
          "text": [
            "Collecting pulp\n",
            "  Downloading PuLP-2.7.0-py3-none-any.whl (14.3 MB)\n",
            "\u001b[2K     \u001b[90m━━━━━━━━━━━━━━━━━━━━━━━━━━━━━━━━━━━━━━━━\u001b[0m \u001b[32m14.3/14.3 MB\u001b[0m \u001b[31m26.8 MB/s\u001b[0m eta \u001b[36m0:00:00\u001b[0m\n",
            "\u001b[?25hInstalling collected packages: pulp\n",
            "Successfully installed pulp-2.7.0\n"
          ]
        }
      ]
    },
    {
      "cell_type": "code",
      "source": [
        "import numpy as np"
      ],
      "metadata": {
        "id": "OvMC8qXVdc7X"
      },
      "execution_count": null,
      "outputs": []
    },
    {
      "cell_type": "markdown",
      "source": [
        "Refer the SA_1_anderson.ipynb file for context."
      ],
      "metadata": {
        "id": "yOhf8qkiT8jN"
      }
    },
    {
      "cell_type": "markdown",
      "source": [
        "**Algorithm**: First we shall try to implement a PSO technique."
      ],
      "metadata": {
        "id": "cTSNaCJiUUVY"
      }
    },
    {
      "cell_type": "markdown",
      "source": [
        "**Function 1 (Store Constraints)** <br>\n",
        "Function: Given the constraints which are a part of the problem given, store the coefficients in the form of an array. The dimension of the array which stores the coefficients is $(n,n+1)$ where $n$ is the dimension of the $X$ domain.\n"
      ],
      "metadata": {
        "id": "sNel5671cUHK"
      }
    },
    {
      "cell_type": "code",
      "source": [
        "def evaluate_t_constraints(dimx, uncertainties):\n",
        "    dimx_plus_1 = dimx + 1\n",
        "    constraint_coeff_array = np.zeros((dimx, dimx_plus_1))\n",
        "\n",
        "    for i in range(dimx):\n",
        "        constraint_coeff_array[i][0] = -uncertainties[i][0]\n",
        "        constraint_coeff_array[i][1] = -uncertainties[i][1]\n",
        "        constraint_coeff_array[i][2] = -1\n",
        "        constraint_coeff_array[i][3] = -1/6 * ((uncertainties[i][0] - 1)**2 +\n",
        "                                                uncertainties[i][1]) \\\n",
        "                                        * (uncertainties[i][0] + (2 - uncertainties[i][1]))\n",
        "\n",
        "    return constraint_coeff_array"
      ],
      "metadata": {
        "id": "jOSxhFkRWCxH"
      },
      "execution_count": 14,
      "outputs": []
    },
    {
      "cell_type": "code",
      "source": [
        "# Example usage:\n",
        "n = 3  # replace with the actual value of dimx\n",
        "uncertainties_array = np.array([[1, 0], [2, 0], [3, 0]])  # replace with the actual uncertainties array\n",
        "\n",
        "result_coefficients = evaluate_t_constraints(n, uncertainties_array)\n",
        "print(\"Resulting Coefficients Array:\")\n",
        "print(result_coefficients)"
      ],
      "metadata": {
        "colab": {
          "base_uri": "https://localhost:8080/"
        },
        "id": "UaHtg2RIdiU3",
        "outputId": "7faa1882-22b5-4a30-e0d2-7f1bdbf1719f"
      },
      "execution_count": 15,
      "outputs": [
        {
          "output_type": "stream",
          "name": "stdout",
          "text": [
            "Resulting Coefficients Array:\n",
            "[[-1.          0.         -1.         -0.        ]\n",
            " [-2.          0.         -1.         -0.66666667]\n",
            " [-3.          0.         -1.         -3.33333333]]\n"
          ]
        }
      ]
    },
    {
      "cell_type": "markdown",
      "source": [
        "**Function 2 (Convert to PuLP problem)** <br>\n",
        "Function: Convert the given problem to a PuLP problem. The input passed is the coefficient array which was defined before. The PuLP problem is given as a module which computes the optimal value of the input problem on the basis of the coefficients."
      ],
      "metadata": {
        "id": "TT39SIn2fYI3"
      }
    },
    {
      "cell_type": "code",
      "source": [
        "from pulp import LpProblem, LpMinimize, LpVariable, LpStatus, PULP_CBC_CMD\n",
        "\n",
        "def solve_for_G_of_omega(constraint_coeff_array, dimx, MINIMUM_N=-1e8, MAXIMUM_N=1e8):\n",
        "    prob = LpProblem(\"FindG\", LpMinimize)\n",
        "    set_x = range(dimx)\n",
        "\n",
        "    G_omega = LpVariable.dicts(\"x\", lowBound=MINIMUM_N, upBound=MAXIMUM_N, indices=set_x, cat='Continuous')\n",
        "    prob += G_omega[2]\n",
        "\n",
        "    for i in set_x:\n",
        "        prob += 0 >= G_omega[0] * constraint_coeff_array[i][0] + \\\n",
        "                      G_omega[1] * constraint_coeff_array[i][1] + \\\n",
        "                      G_omega[2] * constraint_coeff_array[i][2] + \\\n",
        "                      constraint_coeff_array[i][3]\n",
        "\n",
        "    prob.solve(PULP_CBC_CMD())\n",
        "\n",
        "    # Print solver status\n",
        "    #print(\"Solver status:\", LpStatus[prob.status])\n",
        "\n",
        "    G_of_omega = np.array([G_omega[i].varValue for i in set_x])\n",
        "\n",
        "    return G_of_omega[2]"
      ],
      "metadata": {
        "id": "GC6wERf8fb85"
      },
      "execution_count": 16,
      "outputs": []
    },
    {
      "cell_type": "code",
      "source": [
        "# Example usage:\n",
        "dimx = 3  # replace with the actual value of dimx\n",
        "MINIMUM_N = -1e8  # replace with the actual minimum value\n",
        "MAXIMUM_N = 1e8 # replace with the actual maximum value\n",
        "\n",
        "# Assuming you have the constraint_coeff_array\n",
        "constraint_coeff_array =evaluate_t_constraints(3, np.array([[0, 10e-5       ],\\\n",
        " [0.88774755  ,0.6832124 ],\\\n",
        " [1.39025533 ,2.        ]]))\n",
        "result = solve_for_G_of_omega(constraint_coeff_array, dimx, MINIMUM_N, MAXIMUM_N)\n",
        "print(\"Result:\", result)"
      ],
      "metadata": {
        "colab": {
          "base_uri": "https://localhost:8080/"
        },
        "id": "rl9PYvqHgRoY",
        "outputId": "3a1e62bb-87f9-404c-953f-dd49b5ad0253"
      },
      "execution_count": 17,
      "outputs": [
        {
          "output_type": "stream",
          "name": "stdout",
          "text": [
            "Result: -10000.333\n"
          ]
        }
      ]
    },
    {
      "cell_type": "markdown",
      "source": [
        "**Function 3 (Initial Point)** <br>\n",
        "Given an interval $I$ and $n,k$ which are dimensions of an array, generate a numpy array of dimension $n \\times k$ and initialize it elementwise with a number randomly chosen from the interval $I$."
      ],
      "metadata": {
        "id": "Teiwa_CLklfX"
      }
    },
    {
      "cell_type": "code",
      "source": [
        "import numpy as np\n",
        "\n",
        "def generate_initial_point(n, k, interval_I):\n",
        "    \"\"\"\n",
        "    Generate an initial point numpy array of dimension n x k with random values from interval I.\n",
        "\n",
        "    Parameters:\n",
        "    - n: Number of rows.\n",
        "    - k: Number of columns.\n",
        "    - interval_I: Tuple representing the interval (start, end).\n",
        "\n",
        "    Returns:\n",
        "    - initial_point: Numpy array of shape (n, k) with random values from interval I.\n",
        "    \"\"\"\n",
        "    start, end = interval_I\n",
        "    end_inclusive = end + 1e-10  # A small offset to include the endpoint\n",
        "    initial_point = np.random.uniform(start, end_inclusive, size=(n, k))\n",
        "    return initial_point"
      ],
      "metadata": {
        "id": "a6dJbp_Yg-zZ"
      },
      "execution_count": 3,
      "outputs": []
    },
    {
      "cell_type": "code",
      "source": [
        "# Example usage:\n",
        "interval_I = (0, 2)  # Adjust the interval I as needed\n",
        "n = 3  # Number of rows\n",
        "k = 2  # Number of columns\n",
        "\n",
        "initial_point = generate_initial_point(n, k, interval_I)\n",
        "print(\"Initial Point:\\n\", initial_point)"
      ],
      "metadata": {
        "colab": {
          "base_uri": "https://localhost:8080/"
        },
        "id": "spkxyDEug_9M",
        "outputId": "22b2b013-cecf-45be-c336-96070994fd1f"
      },
      "execution_count": null,
      "outputs": [
        {
          "output_type": "stream",
          "name": "stdout",
          "text": [
            "Initial Point:\n",
            " [[0.52341137 0.4939576 ]\n",
            " [1.81250916 0.4990924 ]\n",
            " [0.54389945 1.51879652]]\n"
          ]
        }
      ]
    },
    {
      "cell_type": "markdown",
      "source": [
        "**Function 4 (Particle Swarm Optimization)** <br>\n",
        "Function: The method in which the PSO algorithm will work is as follows: <br>\n",
        "1. The optimization routine will run for a given number of iterations (say, $T$ = 100) <br>\n",
        "2. The total number of particles in our swarm will be fixed, let us call this number $P$, for population <br>\n",
        "3. At each iteration, each of the particles shall occupy one of the locations in the $U$-space, i.e. the domain $U^n$. Thus, associated with each particle $i$, there is a matrix $U_i$ and the particle can obtain the fitness function for that $U_i$, given by $f(U_i)$. <br>\n",
        "4. Along with the location, there is also a velocity term $\\Delta U_i$, which decides the new position of the particle at the end of the iteration. This is again a matrix. <br>\n",
        "5. The initial locations and velocities have to be defined through some initialization procedure. One could use methods such as blue noise, white noise sampling, which allow for a good distribution. One could also see whether PSO methods are susceptible to minor changes in the initial conditions. <br>\n",
        "6. Once $f(U_i)$ is computed for all $i$, we find out the position of the best particle and the best value achieved through the algorithm <br>\n",
        "7. Once that is done, the state and velocity matrices are updated according to the update rule, which has three hyperparameters: $I_v$, the inertia weight, $S_d$, the social displacement component and $C_d$, the cognitive displacement component. <br>\n",
        "8. Once can also choose some norm during the update for considering the terms to be used. <br>\n",
        "9. Further, the algorithm should also track the personal best and global best values throughout the run of the algorithm <br>\n",
        "10. Since runtime of the algorithm is a good metric to be used, we also want the algorithm to compute the runtime."
      ],
      "metadata": {
        "id": "yJYCD19Cng7D"
      }
    },
    {
      "cell_type": "markdown",
      "source": [
        "**Function 4.1 (Initialization)** <br>"
      ],
      "metadata": {
        "id": "CXCEci8zJkqg"
      }
    },
    {
      "cell_type": "code",
      "source": [
        "import numpy as np\n",
        "\n",
        "def initialize_particles(num_particles, n, k, interval_I):\n",
        "    \"\"\"\n",
        "    Initialize particle positions and velocities.\n",
        "\n",
        "    Parameters:\n",
        "    - num_particles: Number of particles in the swarm.\n",
        "    - num_dimensions: Number of dimensions in the search space.\n",
        "    - interval_I: Tuple representing the interval (start, end) for random initialization.\n",
        "\n",
        "    Returns:\n",
        "    - positions: List of numpy arrays, each of shape (num_dimensions,) representing particle positions.\n",
        "    - velocities: List of numpy arrays, each of shape (num_dimensions,) representing particle velocities.\n",
        "    \"\"\"\n",
        "    positions = [generate_initial_point(n, k, interval_I) for _ in range(num_particles)]\n",
        "    velocities = [generate_initial_point(n, k, interval_I) for _ in range(num_particles)]\n",
        "    return positions, velocities"
      ],
      "metadata": {
        "id": "okkAQa0_Jpkf"
      },
      "execution_count": 27,
      "outputs": []
    },
    {
      "cell_type": "code",
      "source": [
        "# Example usage:\n",
        "num_particles_example = 10\n",
        "n = 3\n",
        "k = 2\n",
        "interval_I_example = (0, 2)\n",
        "\n",
        "initial_positions, initial_velocities = initialize_particles(num_particles_example, n, k, interval_I_example)"
      ],
      "metadata": {
        "id": "ZR31iFofKZPI"
      },
      "execution_count": 29,
      "outputs": []
    },
    {
      "cell_type": "markdown",
      "source": [
        "**Function 4.2 (Fitness Computation)** <br>"
      ],
      "metadata": {
        "id": "0LDD8nE0LcZC"
      }
    },
    {
      "cell_type": "code",
      "source": [
        "def evaluate_fitness(positions, n):\n",
        "    \"\"\"\n",
        "    Evaluate the fitness function for each particle.\n",
        "\n",
        "    Parameters:\n",
        "    - positions: List of numpy arrays, each of shape (num_dimensions,) representing particle positions.\n",
        "    - n: Number of rows.\n",
        "\n",
        "    Returns:\n",
        "    - fitness_values: List of fitness values corresponding to each particle.\n",
        "    \"\"\"\n",
        "    fitness_values = [solve_for_G_of_omega(evaluate_t_constraints(n, position), n) for position in positions]\n",
        "    return fitness_values"
      ],
      "metadata": {
        "id": "WTo3G_cTN-b5"
      },
      "execution_count": 18,
      "outputs": []
    },
    {
      "cell_type": "code",
      "source": [
        "# Example usage:\n",
        "num_particles = 100\n",
        "n = 3\n",
        "k = 2\n",
        "interval_I = (0, 2)\n",
        "\n",
        "# Initialize particles\n",
        "positions, velocities = initialize_particles(num_particles, n, k, interval_I)\n",
        "\n",
        "# Evaluate fitness values\n",
        "fitness_values = evaluate_fitness(positions, n)\n",
        "\n",
        "# Print the results\n",
        "for i, (position, fitness) in enumerate(zip(positions, fitness_values), 1):\n",
        "    print(f\"Particle {i} - Position: {position}, Fitness: {fitness}\")"
      ],
      "metadata": {
        "colab": {
          "base_uri": "https://localhost:8080/"
        },
        "id": "jfkVbzCmN_uC",
        "outputId": "1e3f7d83-6689-4069-9810-1b7f1a7c8b61"
      },
      "execution_count": 35,
      "outputs": [
        {
          "output_type": "stream",
          "name": "stdout",
          "text": [
            "Particle 1 - Position: [[1.23825145 0.50626077]\n",
            " [1.66557499 0.35501486]\n",
            " [1.1731683  0.33472713]], Fitness: -100000000.0\n",
            "Particle 2 - Position: [[0.76606977 1.66135359]\n",
            " [0.19052181 1.64838631]\n",
            " [0.11242439 1.70445351]], Fitness: -100000000.0\n",
            "Particle 3 - Position: [[1.5644661  0.50628751]\n",
            " [1.03794479 0.13885992]\n",
            " [1.26727598 1.34529431]], Fitness: -100000000.0\n",
            "Particle 4 - Position: [[1.58184451 0.99292516]\n",
            " [0.07327437 1.07442342]\n",
            " [1.52426664 1.81780183]], Fitness: -100000000.0\n",
            "Particle 5 - Position: [[1.70334142e+00 5.53740501e-01]\n",
            " [9.48300230e-01 1.51634014e-03]\n",
            " [7.96624143e-01 7.39891076e-01]], Fitness: -94981657.0\n",
            "Particle 6 - Position: [[1.48156643 0.57786107]\n",
            " [1.7087461  0.86631182]\n",
            " [1.80525238 1.99862739]], Fitness: -100000000.0\n",
            "Particle 7 - Position: [[1.44933592 1.75730005]\n",
            " [1.63013524 1.96963352]\n",
            " [0.36416204 0.8964874 ]], Fitness: -100000000.0\n",
            "Particle 8 - Position: [[1.73975995 1.27914985]\n",
            " [0.07952837 0.42577658]\n",
            " [0.02173086 1.57718096]], Fitness: -50530495.0\n",
            "Particle 9 - Position: [[1.8219113  1.72965894]\n",
            " [0.36372013 1.81450999]\n",
            " [1.70755345 1.70920022]], Fitness: -100000000.0\n",
            "Particle 10 - Position: [[1.813936   0.58870984]\n",
            " [0.58348862 1.67117784]\n",
            " [1.39692705 1.68945462]], Fitness: -100000000.0\n",
            "Particle 11 - Position: [[0.17472937 1.59235676]\n",
            " [0.30543219 0.76798375]\n",
            " [0.11251516 1.19171185]], Fitness: -100000000.0\n",
            "Particle 12 - Position: [[1.15129609 0.73478267]\n",
            " [1.49952069 0.30473108]\n",
            " [1.81464114 1.19996641]], Fitness: -100000000.0\n",
            "Particle 13 - Position: [[0.4454785  0.43062651]\n",
            " [0.04900363 1.98364632]\n",
            " [0.36501877 1.49448456]], Fitness: -87610501.0\n",
            "Particle 14 - Position: [[0.46456373 0.87424029]\n",
            " [1.04648527 0.91045796]\n",
            " [0.0699388  1.91272499]], Fitness: -100000000.0\n",
            "Particle 15 - Position: [[1.37119589 1.49549954]\n",
            " [0.45075118 1.84588867]\n",
            " [1.6211519  0.68567081]], Fitness: -100000000.0\n",
            "Particle 16 - Position: [[0.87894259 1.03641988]\n",
            " [0.68385903 0.80886766]\n",
            " [1.81379392 1.54780883]], Fitness: -100000000.0\n",
            "Particle 17 - Position: [[0.54501128 1.97952588]\n",
            " [0.10958937 1.55793001]\n",
            " [0.27598067 0.12276962]], Fitness: -39875029.0\n",
            "Particle 18 - Position: [[0.48834644 0.34753836]\n",
            " [1.54535873 0.48684792]\n",
            " [1.85896323 0.1749501 ]], Fitness: -83588480.0\n",
            "Particle 19 - Position: [[0.6969121  1.50203994]\n",
            " [0.07023911 1.7468969 ]\n",
            " [1.32703133 0.96430499]], Fitness: -100000000.0\n",
            "Particle 20 - Position: [[0.81471003 1.56275428]\n",
            " [1.02228388 0.79981285]\n",
            " [1.5552626  1.46739641]], Fitness: -100000000.0\n",
            "Particle 21 - Position: [[0.237832   0.79141381]\n",
            " [1.73860109 0.94875629]\n",
            " [1.81880389 1.34889706]], Fitness: -100000000.0\n",
            "Particle 22 - Position: [[0.97735154 1.34829042]\n",
            " [1.46711794 0.3157111 ]\n",
            " [0.24144637 0.26157989]], Fitness: -50302626.0\n",
            "Particle 23 - Position: [[1.31603644 1.20612894]\n",
            " [1.59401439 1.40932178]\n",
            " [1.85612543 1.50484674]], Fitness: -100000000.0\n",
            "Particle 24 - Position: [[0.39969297 0.17920576]\n",
            " [0.73463123 1.07625872]\n",
            " [1.39897804 0.9717522 ]], Fitness: -57889873.0\n",
            "Particle 25 - Position: [[0.0752383  1.33322125]\n",
            " [1.71088992 0.42639071]\n",
            " [1.24985337 1.7405208 ]], Fitness: -100000000.0\n",
            "Particle 26 - Position: [[1.28519411 1.0534498 ]\n",
            " [0.52448013 1.23317138]\n",
            " [1.92208733 0.44222747]], Fitness: -100000000.0\n",
            "Particle 27 - Position: [[0.91780384 0.96539878]\n",
            " [0.67515613 0.41292017]\n",
            " [0.78495637 1.71202007]], Fitness: -100000000.0\n",
            "Particle 28 - Position: [[1.94006342 0.65054455]\n",
            " [1.09438337 0.47558641]\n",
            " [1.19242118 1.75871428]], Fitness: -100000000.0\n",
            "Particle 29 - Position: [[1.96880371 1.56778221]\n",
            " [0.19618381 0.06340444]\n",
            " [1.23125163 0.36817763]], Fitness: -25958824.0\n",
            "Particle 30 - Position: [[0.62896448 1.59183723]\n",
            " [0.40701682 1.42921826]\n",
            " [0.85296199 0.30509998]], Fitness: -100000000.0\n",
            "Particle 31 - Position: [[0.03136078 0.05421288]\n",
            " [1.34481276 0.10990686]\n",
            " [0.43304589 1.00518586]], Fitness: -8557366.4\n",
            "Particle 32 - Position: [[0.53252742 1.56389846]\n",
            " [1.22416907 0.72226732]\n",
            " [1.46000019 1.50900467]], Fitness: -100000000.0\n",
            "Particle 33 - Position: [[0.28889842 0.54565212]\n",
            " [1.0657398  1.49719088]\n",
            " [1.79518025 1.55127435]], Fitness: -83455054.0\n",
            "Particle 34 - Position: [[1.90562369 0.88031972]\n",
            " [1.52044073 1.29557545]\n",
            " [1.79567602 0.2918945 ]], Fitness: -100000000.0\n",
            "Particle 35 - Position: [[1.2314067  0.0983456 ]\n",
            " [1.22065788 1.05132678]\n",
            " [0.73638471 0.86935599]], Fitness: -100000000.0\n",
            "Particle 36 - Position: [[0.8219765  1.96719422]\n",
            " [1.47315059 1.71108121]\n",
            " [1.80128878 1.50329496]], Fitness: -100000000.0\n",
            "Particle 37 - Position: [[1.55278551 1.72128438]\n",
            " [1.92500561 1.85229838]\n",
            " [0.34313805 1.92199447]], Fitness: -100000000.0\n",
            "Particle 38 - Position: [[0.95783954 1.31770284]\n",
            " [1.54527205 1.32894447]\n",
            " [1.12612    0.79983211]], Fitness: -100000000.0\n",
            "Particle 39 - Position: [[0.03303109 0.62176579]\n",
            " [0.0247178  0.83300747]\n",
            " [0.53201472 1.8447232 ]], Fitness: -65479688.0\n",
            "Particle 40 - Position: [[1.06512842 0.16181679]\n",
            " [1.46526445 1.19821225]\n",
            " [1.50599233 1.80568222]], Fitness: -100000000.0\n",
            "Particle 41 - Position: [[0.14446113 1.53690072]\n",
            " [0.23253521 0.48194756]\n",
            " [1.28658129 0.6042138 ]], Fitness: -71448277.0\n",
            "Particle 42 - Position: [[0.73068328 1.54197011]\n",
            " [0.76770203 0.69730381]\n",
            " [0.56592914 1.04341331]], Fitness: -100000000.0\n",
            "Particle 43 - Position: [[1.38097981 1.43173202]\n",
            " [1.62131826 1.16001858]\n",
            " [1.41788903 1.50370117]], Fitness: -100000000.0\n",
            "Particle 44 - Position: [[1.65132673 1.65386045]\n",
            " [1.59648685 0.42330418]\n",
            " [0.28954357 1.19307221]], Fitness: -100000000.0\n",
            "Particle 45 - Position: [[1.78841197 0.83638218]\n",
            " [0.73500227 0.13617081]\n",
            " [0.12732075 0.71276463]], Fitness: -84008538.0\n",
            "Particle 46 - Position: [[1.86984484 1.09615816]\n",
            " [1.71775855 0.80403096]\n",
            " [1.79482621 0.30111578]], Fitness: -100000000.0\n",
            "Particle 47 - Position: [[1.57797801 0.8131761 ]\n",
            " [0.48279618 0.81377077]\n",
            " [1.76854469 0.10141215]], Fitness: -100000000.0\n",
            "Particle 48 - Position: [[1.20976757 0.58635266]\n",
            " [0.03955483 1.36453912]\n",
            " [1.69595886 0.44412747]], Fitness: -100000000.0\n",
            "Particle 49 - Position: [[1.910285   1.78084515]\n",
            " [1.42620518 1.72553694]\n",
            " [0.70103907 0.7215532 ]], Fitness: -100000000.0\n",
            "Particle 50 - Position: [[1.679584   0.9996743 ]\n",
            " [0.10639884 0.36172939]\n",
            " [0.7498396  1.83739273]], Fitness: -46812824.0\n",
            "Particle 51 - Position: [[0.85504533 1.61619301]\n",
            " [1.1725531  1.51568195]\n",
            " [0.72551462 1.20391309]], Fitness: -100000000.0\n",
            "Particle 52 - Position: [[1.82697754 0.65795983]\n",
            " [1.13999002 1.30983443]\n",
            " [0.08320058 1.39804451]], Fitness: -100000000.0\n",
            "Particle 53 - Position: [[1.28028349 1.78610176]\n",
            " [1.9637584  1.21772315]\n",
            " [1.4173254  1.75701027]], Fitness: -100000000.0\n",
            "Particle 54 - Position: [[0.34076195 0.09530332]\n",
            " [0.20052177 0.21857677]\n",
            " [1.04505344 0.46863662]], Fitness: -41909854.0\n",
            "Particle 55 - Position: [[0.07081821 1.96101501]\n",
            " [1.83140116 0.32290104]\n",
            " [0.96480969 0.83312472]], Fitness: -100000000.0\n",
            "Particle 56 - Position: [[1.6254351  0.31884639]\n",
            " [0.38988733 0.35774643]\n",
            " [1.17791229 1.09937329]], Fitness: -74763377.0\n",
            "Particle 57 - Position: [[0.55449105 0.48523537]\n",
            " [0.15390753 1.37724755]\n",
            " [1.53950512 1.63575633]], Fitness: -100000000.0\n",
            "Particle 58 - Position: [[0.07805459 0.95212677]\n",
            " [0.69347054 1.69960649]\n",
            " [1.05932885 1.99573198]], Fitness: -100000000.0\n",
            "Particle 59 - Position: [[1.21452339 1.09431677]\n",
            " [1.2394483  0.58177798]\n",
            " [1.20385179 1.36111053]], Fitness: -100000000.0\n",
            "Particle 60 - Position: [[1.71159525 0.560046  ]\n",
            " [0.28877471 0.02438489]\n",
            " [1.8293586  0.87115917]], Fitness: -31315960.0\n",
            "Particle 61 - Position: [[0.73075044 0.33134761]\n",
            " [1.81752778 0.87507176]\n",
            " [1.12326414 1.90726177]], Fitness: -100000000.0\n",
            "Particle 62 - Position: [[0.21693069 1.8542462 ]\n",
            " [1.42453769 1.19863951]\n",
            " [1.36689314 1.17053912]], Fitness: -100000000.0\n",
            "Particle 63 - Position: [[0.03027625 1.94041905]\n",
            " [0.03059841 1.82368452]\n",
            " [1.49376287 0.39219787]], Fitness: -100000000.0\n",
            "Particle 64 - Position: [[0.20011963 0.89590948]\n",
            " [1.21160683 0.92552752]\n",
            " [1.87133647 1.75252415]], Fitness: -100000000.0\n",
            "Particle 65 - Position: [[0.30080277 1.24841183]\n",
            " [1.66409355 0.57593649]\n",
            " [0.95608736 1.21625487]], Fitness: -100000000.0\n",
            "Particle 66 - Position: [[0.85247549 0.67788304]\n",
            " [1.96517742 0.91938315]\n",
            " [0.52426571 0.28732626]], Fitness: -81159197.0\n",
            "Particle 67 - Position: [[0.28084543 0.1181319 ]\n",
            " [0.54766892 1.81427545]\n",
            " [1.29327312 1.87320201]], Fitness: -39897733.0\n",
            "Particle 68 - Position: [[1.43350034 1.40573461]\n",
            " [0.53297223 1.13089041]\n",
            " [0.35169497 1.17858741]], Fitness: -100000000.0\n",
            "Particle 69 - Position: [[1.42996128 0.14069687]\n",
            " [1.76185001 1.60954444]\n",
            " [1.71221524 0.09424397]], Fitness: -100000000.0\n",
            "Particle 70 - Position: [[0.53556971 1.06578817]\n",
            " [0.81310655 0.99824168]\n",
            " [1.60497445 1.20002233]], Fitness: -100000000.0\n",
            "Particle 71 - Position: [[0.26652281 1.76971776]\n",
            " [0.42306546 0.46135367]\n",
            " [1.14925528 1.25689696]], Fitness: -88441913.0\n",
            "Particle 72 - Position: [[1.19423913 1.78405606]\n",
            " [0.00589107 1.86544309]\n",
            " [0.19221496 0.41885079]], Fitness: -61106575.0\n",
            "Particle 73 - Position: [[1.66956389 0.43995501]\n",
            " [0.80793805 0.16739525]\n",
            " [0.68862803 1.00384459]], Fitness: -97533329.0\n",
            "Particle 74 - Position: [[0.59345524 0.3075146 ]\n",
            " [0.93088583 0.07320924]\n",
            " [1.62249835 1.0241988 ]], Fitness: -90096984.0\n",
            "Particle 75 - Position: [[1.89046033 0.63583458]\n",
            " [0.04998067 1.90402023]\n",
            " [0.46588254 1.81623872]], Fitness: -100000000.0\n",
            "Particle 76 - Position: [[1.65251835 0.55535389]\n",
            " [0.66318993 1.79370016]\n",
            " [1.66309102 1.40455773]], Fitness: -100000000.0\n",
            "Particle 77 - Position: [[1.97073894 1.30325489]\n",
            " [0.02102929 0.72724543]\n",
            " [1.06069729 0.99954711]], Fitness: -74827473.0\n",
            "Particle 78 - Position: [[1.16602619 0.22510822]\n",
            " [0.75322722 0.80841776]\n",
            " [0.16011785 1.09418666]], Fitness: -100000000.0\n",
            "Particle 79 - Position: [[1.45910205 0.2641527 ]\n",
            " [1.76433813 1.87729258]\n",
            " [0.93613588 0.0874819 ]], Fitness: -100000000.0\n",
            "Particle 80 - Position: [[1.38965429 1.78129724]\n",
            " [0.71470713 1.65887411]\n",
            " [0.5029121  1.48182788]], Fitness: -100000000.0\n",
            "Particle 81 - Position: [[1.7776077  0.86236488]\n",
            " [1.16362559 1.69838021]\n",
            " [0.22814091 1.76433318]], Fitness: -100000000.0\n",
            "Particle 82 - Position: [[1.61037167e+00 5.20586507e-01]\n",
            " [2.31489150e-01 1.02246963e+00]\n",
            " [9.42550322e-01 1.40344939e-03]], Fitness: -94395377.0\n",
            "Particle 83 - Position: [[0.79194957 1.67926517]\n",
            " [0.22510089 1.60122681]\n",
            " [1.90880818 1.18521861]], Fitness: -100000000.0\n",
            "Particle 84 - Position: [[0.06126504 0.92384733]\n",
            " [1.76386499 1.81382974]\n",
            " [1.41457941 0.41729357]], Fitness: -98511237.0\n",
            "Particle 85 - Position: [[1.29341517 0.19145719]\n",
            " [1.30503137 1.19935873]\n",
            " [1.40366978 0.69255662]], Fitness: -100000000.0\n",
            "Particle 86 - Position: [[1.11186479 0.47235614]\n",
            " [0.76446971 0.16750749]\n",
            " [1.55434566 0.3899485 ]], Fitness: -93197721.0\n",
            "Particle 87 - Position: [[0.05094928 1.25533633]\n",
            " [0.29288821 1.7078491 ]\n",
            " [0.24312297 1.51482809]], Fitness: -100000000.0\n",
            "Particle 88 - Position: [[0.34837948 0.72016798]\n",
            " [1.10341678 0.73230803]\n",
            " [1.46621647 1.95178775]], Fitness: -100000000.0\n",
            "Particle 89 - Position: [[0.00286906 1.05837922]\n",
            " [1.33803105 0.73811076]\n",
            " [0.39786848 0.86851385]], Fitness: -100000000.0\n",
            "Particle 90 - Position: [[0.79351728 1.7920131 ]\n",
            " [0.47168601 1.40224908]\n",
            " [0.64684825 0.90788744]], Fitness: -100000000.0\n",
            "Particle 91 - Position: [[0.13350891 0.83331621]\n",
            " [1.65446942 1.56897327]\n",
            " [0.41666045 1.34827468]], Fitness: -96682512.0\n",
            "Particle 92 - Position: [[1.10592061 1.25078025]\n",
            " [0.40779138 0.95000688]\n",
            " [0.81494763 0.26328964]], Fitness: -100000000.0\n",
            "Particle 93 - Position: [[1.64093263 0.64891959]\n",
            " [0.86214363 1.88948426]\n",
            " [0.12893099 0.26368376]], Fitness: -39261476.0\n",
            "Particle 94 - Position: [[0.61168427 0.32086659]\n",
            " [1.77559404 1.6758346 ]\n",
            " [1.94116619 1.71050216]], Fitness: -93255086.0\n",
            "Particle 95 - Position: [[1.70273664 1.66051764]\n",
            " [0.64747141 1.33102972]\n",
            " [0.32886576 0.36790913]], Fitness: -69677489.0\n",
            "Particle 96 - Position: [[1.55631116 0.80947453]\n",
            " [0.2398226  1.70921944]\n",
            " [0.5141827  1.34085177]], Fitness: -100000000.0\n",
            "Particle 97 - Position: [[0.74571438 0.01931262]\n",
            " [1.31047051 0.24488234]\n",
            " [1.43950932 1.66457987]], Fitness: -76502700.0\n",
            "Particle 98 - Position: [[0.33859594 0.64403549]\n",
            " [1.23037609 1.91285279]\n",
            " [1.59328247 0.00886871]], Fitness: -98263143.0\n",
            "Particle 99 - Position: [[0.96075465 1.94809615]\n",
            " [0.73121743 0.62959764]\n",
            " [1.57727876 1.48845777]], Fitness: -100000000.0\n",
            "Particle 100 - Position: [[0.4100955  1.3500851 ]\n",
            " [0.54606405 0.34726084]\n",
            " [0.78375246 0.54668271]], Fitness: -89332488.0\n"
          ]
        }
      ]
    },
    {
      "cell_type": "markdown",
      "source": [
        "**Function 4.3 (Retention)** <br>"
      ],
      "metadata": {
        "id": "OE8cR1xuPA4b"
      }
    },
    {
      "cell_type": "code",
      "source": [
        "def update_best_fitness(current_best, fitness_values):\n",
        "    \"\"\"\n",
        "\n",
        "    Parameters:\n",
        "    - current_best: List of the current best fitness values.\n",
        "    - fitness_values: List of the new fitness values.\n",
        "\n",
        "\n",
        "    Returns:\n",
        "    - updated_best: List of updated best fitness values.\n",
        "    \"\"\"\n",
        "    # Update best fitness\n",
        "    current_best = max(current_best, fitness_values)\n",
        "    return current_best"
      ],
      "metadata": {
        "id": "jMftnCZSQM0l"
      },
      "execution_count": 37,
      "outputs": []
    },
    {
      "cell_type": "code",
      "source": [
        "print(update_best_fitness(fitness_values, fitness_values))"
      ],
      "metadata": {
        "colab": {
          "base_uri": "https://localhost:8080/"
        },
        "id": "dLBYVK6JbAoC",
        "outputId": "e37ce13f-aac4-4ff4-c4c1-ce2dc90d8692"
      },
      "execution_count": 38,
      "outputs": [
        {
          "output_type": "stream",
          "name": "stdout",
          "text": [
            "[-100000000.0, -100000000.0, -100000000.0, -100000000.0, -94981657.0, -100000000.0, -100000000.0, -50530495.0, -100000000.0, -100000000.0, -100000000.0, -100000000.0, -87610501.0, -100000000.0, -100000000.0, -100000000.0, -39875029.0, -83588480.0, -100000000.0, -100000000.0, -100000000.0, -50302626.0, -100000000.0, -57889873.0, -100000000.0, -100000000.0, -100000000.0, -100000000.0, -25958824.0, -100000000.0, -8557366.4, -100000000.0, -83455054.0, -100000000.0, -100000000.0, -100000000.0, -100000000.0, -100000000.0, -65479688.0, -100000000.0, -71448277.0, -100000000.0, -100000000.0, -100000000.0, -84008538.0, -100000000.0, -100000000.0, -100000000.0, -100000000.0, -46812824.0, -100000000.0, -100000000.0, -100000000.0, -41909854.0, -100000000.0, -74763377.0, -100000000.0, -100000000.0, -100000000.0, -31315960.0, -100000000.0, -100000000.0, -100000000.0, -100000000.0, -100000000.0, -81159197.0, -39897733.0, -100000000.0, -100000000.0, -100000000.0, -88441913.0, -61106575.0, -97533329.0, -90096984.0, -100000000.0, -100000000.0, -74827473.0, -100000000.0, -100000000.0, -100000000.0, -100000000.0, -94395377.0, -100000000.0, -98511237.0, -100000000.0, -93197721.0, -100000000.0, -100000000.0, -100000000.0, -100000000.0, -96682512.0, -100000000.0, -39261476.0, -93255086.0, -69677489.0, -100000000.0, -76502700.0, -98263143.0, -100000000.0, -89332488.0]\n"
          ]
        }
      ]
    },
    {
      "cell_type": "code",
      "source": [
        "def update_best_positions(positions, fitness_values, current_best_positions, current_best, n_particles):\n",
        "    \"\"\"\n",
        "    Update the best position at a specific index based on the current positions and fitness values.\n",
        "\n",
        "    Parameters:\n",
        "    - current_best_positions: List of the current best positions.\n",
        "    - positions: List of the new positions.\n",
        "    - fitness_values: List of the fitness values corresponding to the positions.\n",
        "    - index: Index at which to update the best position.\n",
        "\n",
        "    Returns:\n",
        "    - updated_best_positions: List of updated best positions.\n",
        "    \"\"\"\n",
        "    for index in range(0, n_particles):\n",
        "      if fitness_values[index] > current_best[index]:\n",
        "          current_best_positions[index] = positions[index]\n",
        "    return current_best_positions\n"
      ],
      "metadata": {
        "id": "92OGVr6ZQPCK"
      },
      "execution_count": 56,
      "outputs": []
    },
    {
      "cell_type": "code",
      "source": [
        "print(update_best_positions(positions, positions, fitness_values, fitness_values, 100))"
      ],
      "metadata": {
        "id": "BUdNIfV2bUQa"
      },
      "execution_count": null,
      "outputs": []
    },
    {
      "cell_type": "code",
      "source": [
        "def find_global_best_position(current_global_best, current_global_best_value, positions, fitness_values):\n",
        "    \"\"\"\n",
        "    Find the global best position based on the fitness values.\n",
        "\n",
        "    Parameters:\n",
        "    - current_global_best: Current global best position.\n",
        "    - current_global_best_value: Current global best fitness value.\n",
        "    - positions: List of particle positions.\n",
        "    - fitness_values: List of fitness values corresponding to the positions.\n",
        "\n",
        "    Returns:\n",
        "    - updated_global_best_position: Updated global best position.\n",
        "    - updated_global_best_value: Updated global best fitness value.\n",
        "    \"\"\"\n",
        "    max_fitness = max(fitness_values)\n",
        "\n",
        "    if max_fitness > current_global_best_value:\n",
        "        max_index = fitness_values.index(max_fitness)\n",
        "        updated_global_best_position = positions[max_index]\n",
        "        updated_global_best_value = max_fitness\n",
        "    else:\n",
        "        updated_global_best_position = current_global_best\n",
        "        updated_global_best_value = current_global_best_value\n",
        "\n",
        "    return updated_global_best_position, updated_global_best_value\n"
      ],
      "metadata": {
        "id": "1xZKMzjuUkcX"
      },
      "execution_count": 43,
      "outputs": []
    },
    {
      "cell_type": "markdown",
      "source": [
        "**Function 4.4 (Velocity Update)**"
      ],
      "metadata": {
        "id": "BE8iPUYkRLN8"
      }
    },
    {
      "cell_type": "code",
      "source": [
        "import numpy as np\n",
        "\n",
        "def update_particles(positions, velocities, global_best, personal_best, inertia_weight, social_weight, cognitive_weight, interval_I):\n",
        "    \"\"\"\n",
        "    Update particle velocities.\n",
        "\n",
        "    Parameters:\n",
        "    - positions: List of numpy arrays, each of shape (num_dimensions,) representing particle positions.\n",
        "    - velocities: List of numpy arrays, each of shape (num_dimensions,) representing particle velocities.\n",
        "    - global_best: Global best position.\n",
        "    - personal_best: List of personal best positions for each particle.\n",
        "    - inertia_weight: Inertia weight parameter.\n",
        "    - social_weight: Social weight parameter.\n",
        "    - cognitive_weight: Cognitive weight parameter.\n",
        "    - interval_I: Tuple representing the interval (start, end) for random initialization.\n",
        "\n",
        "    Returns:\n",
        "    - updated_velocities: List of updated particle velocities.\n",
        "    \"\"\"\n",
        "    num_particles = len(positions)\n",
        "    num_dimensions = len(positions[0])\n",
        "\n",
        "    updated_velocities = []\n",
        "    updated_positions = []\n",
        "\n",
        "    for i in range(num_particles):\n",
        "        # Inertia term\n",
        "        inertia_term = inertia_weight * velocities[i]\n",
        "\n",
        "        # Social term\n",
        "        social_term = social_weight * np.random.rand() * (global_best - positions[i])\n",
        "\n",
        "        # Cognitive term\n",
        "        cognitive_term = cognitive_weight * np.random.rand() * (personal_best[i] - positions[i])\n",
        "\n",
        "        # Update velocity for the current particle\n",
        "        updated_velocity = inertia_term + social_term + cognitive_term\n",
        "\n",
        "        # Clip velocity to the interval\n",
        "        velocity_magnitude = np.linalg.norm(updated_velocity)\n",
        "        max_velocity_magnitude = interval_I[1] - interval_I[0]\n",
        "        normalized_velocity = (updated_velocity / velocity_magnitude) * max_velocity_magnitude\n",
        "        updated_velocity = np.clip(normalized_velocity, -max_velocity_magnitude, max_velocity_magnitude)\n",
        "\n",
        "        updated_position = np.clip(positions[i] + updated_velocity, interval_I[0], interval_I[1])\n",
        "        updated_velocities.append(updated_velocity)\n",
        "        updated_positions.append(updated_position)\n",
        "    return updated_positions, updated_velocities\n"
      ],
      "metadata": {
        "id": "w-yJshsUTz1Q"
      },
      "execution_count": 79,
      "outputs": []
    },
    {
      "cell_type": "markdown",
      "source": [
        "**Function 4.5 (PSO Loop)** <br>"
      ],
      "metadata": {
        "id": "TUk9RJrbUmbn"
      }
    },
    {
      "cell_type": "code",
      "source": [
        "import numpy as np\n",
        "\n",
        "def particle_swarm_optimization(tau, num_particles, n, k, interval_I, inertia_weight=0.5, social_weight=1.5, cognitive_weight=1.5):\n",
        "    \"\"\"\n",
        "    Particle Swarm Optimization algorithm.\n",
        "\n",
        "    Parameters:\n",
        "    - tau: Number of iterations.\n",
        "    - num_particles: Number of particles in the swarm.\n",
        "    - n: Number of rows.\n",
        "    - k: Number of columns.\n",
        "    - interval_I: Tuple representing the interval (start, end).\n",
        "    - inertia_weight: Inertia weight parameter.\n",
        "    - social_weight: Social weight parameter.\n",
        "    - cognitive_weight: Cognitive weight parameter.\n",
        "\n",
        "    Returns:\n",
        "    - optimal_points: List of best points found during the iterations.\n",
        "    - optimal_values: List of corresponding maximum values of G.\n",
        "    \"\"\"\n",
        "    # Initialization\n",
        "    positions, velocities = initialize_particles(num_particles, n, k, interval_I)\n",
        "    fitness_values = evaluate_fitness(positions, n)\n",
        "    personal_best = positions.copy()\n",
        "    personal_best_values = fitness_values.copy()\n",
        "    global_best_index = fitness_values.index(max(fitness_values))\n",
        "    global_best = positions[global_best_index]\n",
        "    global_best_value = max(fitness_values)\n",
        "\n",
        "    optimal_points = [global_best]\n",
        "    optimal_values = [fitness_values[global_best_index]]\n",
        "\n",
        "    N = 1  # Iteration counter\n",
        "\n",
        "    while N < tau:\n",
        "        # Update particle positions and velocities\n",
        "        positions, velocities = update_particles(positions, velocities, global_best, personal_best, inertia_weight, social_weight, cognitive_weight, interval_I)\n",
        "\n",
        "        # Evaluate fitness for the new positions\n",
        "        fitness_values = evaluate_fitness(positions, n)\n",
        "\n",
        "        personal_best_values = update_best_fitness(personal_best_values, fitness_values)\n",
        "        personal_best  = update_best_positions(positions, fitness_values, personal_best, personal_best_values, num_particles)\n",
        "        # Update global best\n",
        "        global_best, global_best_value = find_global_best_position(global_best, global_best_value, positions, fitness_values)\n",
        "\n",
        "        # Update optimal value\n",
        "        optimal_points.append(global_best)\n",
        "        optimal_values.append(global_best_value)\n",
        "\n",
        "        # Update iteration counter\n",
        "        N += 1\n",
        "\n",
        "    return optimal_points, optimal_values\n"
      ],
      "metadata": {
        "id": "369Pg4NpxCPx"
      },
      "execution_count": 81,
      "outputs": []
    },
    {
      "cell_type": "code",
      "source": [
        "# Example usage\n",
        "tau_pso = 5\n",
        "num_particles_pso = 20\n",
        "n_pso = 3\n",
        "k_pso = 2\n",
        "interval_I_pso = (0, 2)\n",
        "\n",
        "optimal_points_pso, optimal_values_pso = particle_swarm_optimization(tau_pso, num_particles_pso, n_pso, k_pso, interval_I_pso)\n",
        "\n",
        "# You can use optimal_points_pso and optimal_values_pso for plotting and analysis"
      ],
      "metadata": {
        "id": "rxQRbWfJVGXG"
      },
      "execution_count": 82,
      "outputs": []
    },
    {
      "cell_type": "code",
      "source": [
        "print(optimal_values_pso)"
      ],
      "metadata": {
        "colab": {
          "base_uri": "https://localhost:8080/"
        },
        "id": "9hO7HXhLgI5c",
        "outputId": "7caded62-d522-46d3-bee3-30f3de0e386d"
      },
      "execution_count": 83,
      "outputs": [
        {
          "output_type": "stream",
          "name": "stdout",
          "text": [
            "[-23841517.0, -23841517.0, -0.33333333, -0.33333333, -0.33333333]\n"
          ]
        }
      ]
    },
    {
      "cell_type": "code",
      "source": [
        "print(optimal_points_pso)"
      ],
      "metadata": {
        "colab": {
          "base_uri": "https://localhost:8080/"
        },
        "id": "jcZoUgW1gzli",
        "outputId": "ac5667d9-41c7-456e-b7c1-c996ca81ced2"
      },
      "execution_count": 84,
      "outputs": [
        {
          "output_type": "stream",
          "name": "stdout",
          "text": [
            "[array([[1.7736696 , 0.31474619],\n",
            "       [0.59601083, 1.82988836],\n",
            "       [0.06881091, 0.16960426]]), array([[1.7736696 , 0.31474619],\n",
            "       [0.59601083, 1.82988836],\n",
            "       [0.06881091, 0.16960426]]), array([[1.7914747 , 0.        ],\n",
            "       [0.12406443, 2.        ],\n",
            "       [0.        , 0.        ]]), array([[1.7914747 , 0.        ],\n",
            "       [0.12406443, 2.        ],\n",
            "       [0.        , 0.        ]]), array([[1.7914747 , 0.        ],\n",
            "       [0.12406443, 2.        ],\n",
            "       [0.        , 0.        ]])]\n"
          ]
        }
      ]
    },
    {
      "cell_type": "markdown",
      "source": [
        "**Function 10 (Optimal Value Graph)** <br>\n",
        "Function: Plot the optimal value achieved by the algorithm against the number of iterations"
      ],
      "metadata": {
        "id": "QsjV-_9TFb6O"
      }
    },
    {
      "cell_type": "code",
      "source": [
        "import matplotlib.pyplot as plt\n",
        "\n",
        "def plot_optimal_values(optimal_values, log_scale=False):\n",
        "    \"\"\"\n",
        "    Plot the graph of optimal values against the number of iterations.\n",
        "\n",
        "    Parameters:\n",
        "    - optimal_values: List of optimal values.\n",
        "    - log_scale: Boolean, whether to use a logarithmic scale for the x-axis.\n",
        "    \"\"\"\n",
        "    iterations = range(1, len(optimal_values) + 1)\n",
        "\n",
        "    plt.figure(figsize=(10, 6))\n",
        "    plt.plot(iterations, optimal_values, marker='o', linestyle='-', color='b')\n",
        "    plt.title('Optimal Value vs Number of Iterations')\n",
        "    plt.xlabel('Number of Iterations')\n",
        "    plt.ylabel('Optimal Value')\n",
        "\n",
        "    if log_scale:\n",
        "        plt.xscale('log')\n",
        "        plt.yscale('symlog')\n",
        "\n",
        "    plt.grid(True)\n",
        "    plt.show()\n",
        "\n",
        "# Example usage:\n",
        "plot_optimal_values(optimal_values_pso, log_scale=True)\n"
      ],
      "metadata": {
        "id": "zW08hRbDF3NV",
        "colab": {
          "base_uri": "https://localhost:8080/",
          "height": 569
        },
        "outputId": "b9f83b59-cd3e-47aa-833f-aa914895b9a3"
      },
      "execution_count": 85,
      "outputs": [
        {
          "output_type": "display_data",
          "data": {
            "text/plain": [
              "<Figure size 1000x600 with 1 Axes>"
            ],
            "image/png": "[encoded data removed]"
          },
          "metadata": {}
        }
      ]
    },
    {
      "cell_type": "markdown",
      "source": [
        "**Function 11 (Visualize $U^n$)** <br>\n",
        "Code to visualize how the points travelled by the algorithm change over the course of the iterations."
      ],
      "metadata": {
        "id": "sDSwxRIWI-Cz"
      }
    },
    {
      "cell_type": "code",
      "source": [
        "import matplotlib.pyplot as plt\n",
        "from matplotlib.colors import Normalize\n",
        "from matplotlib.cm import ScalarMappable\n",
        "\n",
        "# Set up the layout of subplots\n",
        "num_rows = int(len(optimal_points_pso)/10)+ 1\n",
        "num_cols = 10\n",
        "u_points = optimal_points_pso\n",
        "\n",
        "# Create a figure and axis\n",
        "fig, axes = plt.subplots(num_rows, num_cols, figsize=(12, 12))\n",
        "\n",
        "# Flatten the axes array for easier indexing\n",
        "axes = axes.flatten()\n",
        "\n",
        "# Plot each 2x3 array in u_points up to the number of available subplots\n",
        "cmap = 'viridis'\n",
        "vmin, vmax = np.min(u_points), np.max(u_points)\n",
        "\n",
        "for i, array in enumerate(u_points[:len(axes)]):\n",
        "    ax = axes[i]\n",
        "    im = ax.imshow(array, cmap=cmap, interpolation='none', aspect='auto', vmin=vmin, vmax=vmax)\n",
        "    #ax.set_title(f\"Array {i+1}\")\n",
        "\n",
        "# Create a ScalarMappable\n",
        "norm = Normalize(vmin=vmin, vmax=vmax)\n",
        "sm = ScalarMappable(cmap=cmap, norm=norm)\n",
        "sm.set_array([])  # This line is necessary for the ScalarMappable to work\n",
        "\n",
        "# Create a colorbar\n",
        "cbar = plt.colorbar(sm, ax=axes, orientation='horizontal', fraction=0.02, pad=0.1)\n",
        "cbar.set_label('Scalar Values')\n",
        "\n",
        "# Adjust layout using subplots_adjust\n",
        "plt.subplots_adjust(bottom=0.2, right=0.8, top=0.9)\n",
        "\n",
        "# Show the plot\n",
        "plt.show()\n",
        "\n"
      ],
      "metadata": {
        "colab": {
          "base_uri": "https://localhost:8080/",
          "height": 1000
        },
        "id": "uGxCHG9DGcvS",
        "outputId": "2252313c-c3b8-46af-d59a-8dcc75c738f6"
      },
      "execution_count": 91,
      "outputs": [
        {
          "output_type": "display_data",
          "data": {
            "text/plain": [
              "<Figure size 1200x1200 with 11 Axes>"
            ],
            "image/png": "[encoded data removed]"
          },
          "metadata": {}
        }
      ]
    }
  ]
}